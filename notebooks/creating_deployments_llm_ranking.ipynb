{
 "cells": [
  {
   "cell_type": "code",
   "execution_count": null,
   "id": "20c4e982",
   "metadata": {},
   "outputs": [],
   "source": [
    "import time\n",
    "\n",
    "notebook_start_time = time.time()"
   ]
  },
  {
   "cell_type": "code",
   "execution_count": null,
   "id": "ce5438eb",
   "metadata": {},
   "outputs": [],
   "source": [
    "%load_ext autoreload\n",
    "%autoreload 2\n",
    "\n",
    "import sys\n",
    "from pathlib import Path\n",
    "\n",
    "root_dir = str(Path().absolute().parent)\n",
    "if root_dir not in sys.path:\n",
    "    print(f\"Adding the following directory to the PYTHONPATH: {root_dir}\")\n",
    "    sys.path.append(root_dir)"
   ]
  },
  {
   "cell_type": "code",
   "execution_count": null,
   "id": "236b13cc",
   "metadata": {},
   "outputs": [],
   "source": [
    "import warnings\n",
    "\n",
    "warnings.filterwarnings(\"ignore\")\n",
    "\n",
    "from loguru import logger\n",
    "\n",
    "from recsys.hopsworks_integration import (\n",
    "    feature_store,\n",
    "    llm_ranking_serving,\n",
    "    two_tower_serving,\n",
    ")"
   ]
  },
  {
   "cell_type": "markdown",
   "id": "ec73d1b5",
   "metadata": {},
   "source": [
    "# Deploying and testing the LLM ranker inference pipeline"
   ]
  },
  {
   "cell_type": "code",
   "execution_count": null,
   "id": "b6722d54",
   "metadata": {},
   "outputs": [],
   "source": [
    "project, fs = feature_store.get_feature_store()"
   ]
  },
  {
   "cell_type": "markdown",
   "id": "5d5ab589",
   "metadata": {},
   "source": [
    "## Deploying the ranking inference pipeline"
   ]
  },
  {
   "cell_type": "code",
   "execution_count": null,
   "id": "bf90041b",
   "metadata": {},
   "outputs": [],
   "source": [
    "ranking_model = llm_ranking_serving.HopsworksLLMRankingModel()\n",
    "ranking_model.register(project.get_model_registry())"
   ]
  },
  {
   "cell_type": "code",
   "execution_count": null,
   "id": "7325da6f",
   "metadata": {},
   "outputs": [],
   "source": [
    "ranking_deployment = (\n",
    "    llm_ranking_serving.HopsworksLLMRankingModel.deploy()\n",
    ")"
   ]
  },
  {
   "cell_type": "code",
   "execution_count": null,
   "id": "c0db09b0",
   "metadata": {},
   "outputs": [],
   "source": [
    "ranking_deployment.start()"
   ]
  },
  {
   "cell_type": "markdown",
   "id": "33f7f5f7",
   "metadata": {},
   "source": [
    "## Test the ranking inference pipeline"
   ]
  },
  {
   "cell_type": "code",
   "execution_count": null,
   "id": "5908a5d7",
   "metadata": {},
   "outputs": [],
   "source": [
    "def get_top_recommendations(ranked_candidates, k=3):\n",
    "    return [candidate[-1] for candidate in ranked_candidates[\"ranking\"][:k]]"
   ]
  },
  {
   "cell_type": "code",
   "execution_count": null,
   "id": "980f24f5",
   "metadata": {},
   "outputs": [],
   "source": [
    "test_ranking_input = [\n",
    "        {\n",
    "            \"customer_id\": \"d327d0ad9e30085a436933dfbb7f77cf42e38447993a078ed35d93e3fd350ecf\",\n",
    "            \"month_sin\": 1.2246467991473532e-16,\n",
    "            \"query_emb\": [\n",
    "                0.214135289,\n",
    "                0.571055949,\n",
    "                0.330709577,\n",
    "                -0.225899458,\n",
    "                -0.308674961,\n",
    "                -0.0115124583,\n",
    "                0.0730511621,\n",
    "                -0.495835781,\n",
    "                0.625569344,\n",
    "                -0.0438038409,\n",
    "                0.263472944,\n",
    "                -0.58485353,\n",
    "                -0.307070434,\n",
    "                0.0414443575,\n",
    "                -0.321789205,\n",
    "                0.966559,\n",
    "            ],\n",
    "            \"month_cos\": -1.0,\n",
    "        }\n",
    "    ]\n",
    "\n",
    "# Test ranking deployment\n",
    "ranked_candidates = ranking_deployment.predict(inputs=test_ranking_input)\n",
    "\n",
    "# Retrieve article ids of the top recommended items\n",
    "recommendations = get_top_recommendations(ranked_candidates[\"predictions\"], k=3)\n",
    "recommendations"
   ]
  },
  {
   "cell_type": "code",
   "execution_count": null,
   "id": "18c410f4",
   "metadata": {},
   "outputs": [],
   "source": [
    "query_model_deployment = (\n",
    "    two_tower_serving.HopsworksQueryModel.deploy(ranking_model_type=\"llmranking\")\n",
    ")"
   ]
  },
  {
   "cell_type": "code",
   "execution_count": null,
   "id": "853964e3",
   "metadata": {},
   "outputs": [],
   "source": [
    "query_model_deployment.start()"
   ]
  },
  {
   "cell_type": "code",
   "execution_count": null,
   "id": "f59ff7fe",
   "metadata": {},
   "outputs": [],
   "source": [
    "data = [\n",
    "    {\n",
    "        \"customer_id\": \"d327d0ad9e30085a436933dfbb7f77cf42e38447993a078ed35d93e3fd350ecf\",\n",
    "        \"transaction_date\": \"2022-11-15T12:16:25.330916\",\n",
    "    }\n",
    "]"
   ]
  },
  {
   "cell_type": "code",
   "execution_count": null,
   "id": "63d96ad1",
   "metadata": {},
   "outputs": [],
   "source": [
    "ranked_candidates = query_model_deployment.predict(inputs=data)\n",
    "\n",
    "# Retrieve article ids of the top recommended items\n",
    "recommendations = get_top_recommendations(ranked_candidates[\"predictions\"], k=3)\n",
    "recommendations"
   ]
  },
  {
   "cell_type": "code",
   "execution_count": null,
   "id": "6a87453a",
   "metadata": {},
   "outputs": [],
   "source": [
    "ranking_deployment.stop()\n",
    "query_model_deployment.stop()"
   ]
  },
  {
   "cell_type": "code",
   "execution_count": null,
   "id": "96b0fa8e",
   "metadata": {},
   "outputs": [],
   "source": [
    "notebook_end_time = time.time()\n",
    "notebook_execution_time = notebook_end_time - notebook_start_time\n",
    "\n",
    "logger.info(\n",
    "    f\"⌛️ Notebook Execution time: {notebook_execution_time:.2f} seconds ~ {notebook_execution_time / 60:.2f} minutes\"\n",
    ")"
   ]
  }
 ],
 "metadata": {
  "kernelspec": {
   "display_name": "personalized-recommender-project-nc9_7idR-py3.12",
   "language": "python",
   "name": "python3"
  },
  "language_info": {
   "codemirror_mode": {
    "name": "ipython",
    "version": 3
   },
   "file_extension": ".py",
   "mimetype": "text/x-python",
   "name": "python",
   "nbconvert_exporter": "python",
   "pygments_lexer": "ipython3",
   "version": "3.12.3"
  }
 },
 "nbformat": 4,
 "nbformat_minor": 5
}
