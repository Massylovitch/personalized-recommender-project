{
 "cells": [
  {
   "cell_type": "code",
   "execution_count": null,
   "id": "1a8fac5e",
   "metadata": {},
   "outputs": [],
   "source": [
    "import time\n",
    "\n",
    "notebook_start_time = time.time()"
   ]
  },
  {
   "cell_type": "code",
   "execution_count": null,
   "id": "04a6573b",
   "metadata": {},
   "outputs": [],
   "source": [
    "import sys\n",
    "from pathlib import Path\n",
    "\n",
    "root_dir = str(Path().absolute().parent)\n",
    "\n",
    "if root_dir not in sys.path:\n",
    "    print(f\"Adding the following directory to the PYTHONPATH: {root_dir}\")\n",
    "    sys.path.append(root_dir)"
   ]
  },
  {
   "cell_type": "code",
   "execution_count": null,
   "id": "2c7704c8",
   "metadata": {},
   "outputs": [],
   "source": [
    "%load_ext autoreload\n",
    "%autoreload 2\n",
    "\n",
    "import warnings\n",
    "warnings.filterwarnings(\"ignore\")\n",
    "\n",
    "from loguru import logger\n",
    "\n",
    "from recsys.hopsworks_integration import feature_store, ranking_serving,two_tower_serving"
   ]
  },
  {
   "cell_type": "markdown",
   "id": "1f267a3f",
   "metadata": {},
   "source": [
    "# Online inference pipeline: Deploying and testing the real-time ML services"
   ]
  },
  {
   "cell_type": "code",
   "execution_count": null,
   "id": "02db7d45",
   "metadata": {},
   "outputs": [],
   "source": [
    "project, fs = feature_store.get_feature_store()"
   ]
  },
  {
   "cell_type": "markdown",
   "id": "272c7203",
   "metadata": {},
   "source": [
    "# Deploying the ranking inference pipeline"
   ]
  },
  {
   "cell_type": "code",
   "execution_count": null,
   "id": "266666b3",
   "metadata": {},
   "outputs": [],
   "source": [
    "ranking_deployment = ranking_serving.HopsworksRankingModel.deploy(\n",
    "    project=project\n",
    ")"
   ]
  },
  {
   "cell_type": "code",
   "execution_count": null,
   "id": "2102e50c",
   "metadata": {},
   "outputs": [],
   "source": [
    "ranking_deployment.start()"
   ]
  },
  {
   "cell_type": "markdown",
   "id": "99e28053",
   "metadata": {},
   "source": [
    "# Test the ranking inference pipeline"
   ]
  },
  {
   "cell_type": "code",
   "execution_count": null,
   "id": "ffcf3d46",
   "metadata": {},
   "outputs": [],
   "source": [
    "def get_top_recommendations(ranked_candidates, k=3):\n",
    "    return [candidate[-1] for candidate in ranked_candidates[\"ranking\"][:k]]"
   ]
  },
  {
   "cell_type": "code",
   "execution_count": null,
   "id": "7c4bb8c8",
   "metadata": {},
   "outputs": [],
   "source": [
    "test_ranking_input = [\n",
    "    {\n",
    "        \"customer_id\": \"d327d0ad9e30085a436933dfbb7f77cf42e38447993a078ed35d93e3fd350ecf\",\n",
    "        \"month_sin\": 1.2246467991473532e-16,\n",
    "        \"query_emb\": [\n",
    "            0.214135289,\n",
    "            0.571055949,\n",
    "            0.330709577,\n",
    "            -0.225899458,\n",
    "            -0.308674961,\n",
    "            -0.0115124583,\n",
    "            0.0730511621,\n",
    "            -0.495835781,\n",
    "            0.625569344,\n",
    "            -0.0438038409,\n",
    "            0.263472944,\n",
    "            -0.58485353,\n",
    "            -0.307070434,\n",
    "            0.0414443575,\n",
    "            -0.321789205,\n",
    "            0.966559,\n",
    "        ],\n",
    "        \"month_cos\": -1.0,\n",
    "    }\n",
    "]\n",
    "\n",
    "# Test ranking deployment\n",
    "ranked_candidates = ranking_deployment.predict(inputs=test_ranking_input)\n",
    "\n",
    "# Retrieve article ids of the top recommended items\n",
    "recommendations = get_top_recommendations(ranked_candidates[\"predictions\"], k=3)\n",
    "recommendations"
   ]
  },
  {
   "cell_type": "markdown",
   "id": "ee82725a",
   "metadata": {},
   "source": [
    "# Deploying the query inference pipeline"
   ]
  },
  {
   "cell_type": "code",
   "execution_count": null,
   "id": "6bbb7336",
   "metadata": {},
   "outputs": [],
   "source": [
    "query_model_deployment = (\n",
    "    two_tower_serving.HopsworksQueryModel.deploy(ranking_model_type=\"ranking\")\n",
    ")"
   ]
  },
  {
   "cell_type": "code",
   "execution_count": null,
   "id": "76697510",
   "metadata": {},
   "outputs": [],
   "source": [
    "query_model_deployment.start()"
   ]
  },
  {
   "cell_type": "markdown",
   "id": "65cd47f4",
   "metadata": {},
   "source": [
    "## Testing the inference pipeline\n"
   ]
  },
  {
   "cell_type": "code",
   "execution_count": null,
   "id": "34af89d2",
   "metadata": {},
   "outputs": [],
   "source": [
    "data = [\n",
    "    {\n",
    "        \"customer_id\": \"d327d0ad9e30085a436933dfbb7f77cf42e38447993a078ed35d93e3fd350ecf\",\n",
    "        \"transaction_date\": \"2022-11-15T12:16:25.330916\",\n",
    "    }\n",
    "]"
   ]
  },
  {
   "cell_type": "code",
   "execution_count": null,
   "id": "19edf1b1",
   "metadata": {},
   "outputs": [],
   "source": [
    "ranked_candidates = query_model_deployment.predict(inputs=data)\n",
    "\n",
    "# Retrieve article ids of the top recommended items\n",
    "recommendations = get_top_recommendations(ranked_candidates[\"predictions\"], k=3)\n",
    "recommendations"
   ]
  }
 ],
 "metadata": {
  "kernelspec": {
   "display_name": "personalized-recommender-project-nc9_7idR-py3.12",
   "language": "python",
   "name": "python3"
  },
  "language_info": {
   "codemirror_mode": {
    "name": "ipython",
    "version": 3
   },
   "file_extension": ".py",
   "mimetype": "text/x-python",
   "name": "python",
   "nbconvert_exporter": "python",
   "pygments_lexer": "ipython3",
   "version": "3.12.3"
  }
 },
 "nbformat": 4,
 "nbformat_minor": 5
}
