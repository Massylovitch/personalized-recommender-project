{
 "cells": [
  {
   "cell_type": "code",
   "execution_count": 1,
   "id": "94635141",
   "metadata": {},
   "outputs": [],
   "source": [
    "\n",
    "import time\n",
    "notebook_start_time = time.time()"
   ]
  },
  {
   "cell_type": "code",
   "execution_count": 2,
   "id": "26901eb9",
   "metadata": {},
   "outputs": [
    {
     "name": "stdout",
     "output_type": "stream",
     "text": [
      "Adding the following directory to the PYTHONPATH: /home/massyl/projects/personalized-recommender-project\n"
     ]
    }
   ],
   "source": [
    "import sys\n",
    "from pathlib import Path\n",
    "\n",
    "root_dir = str(Path().absolute().parent)\n",
    "\n",
    "# Add the root directory to the `PYTHONPATH` to use the `recsys` Python module from the notebook.\n",
    "if root_dir not in sys.path:\n",
    "    print(f\"Adding the following directory to the PYTHONPATH: {root_dir}\")\n",
    "    sys.path.append(root_dir)"
   ]
  },
  {
   "cell_type": "code",
   "execution_count": 63,
   "id": "2c3777a7",
   "metadata": {},
   "outputs": [
    {
     "name": "stdout",
     "output_type": "stream",
     "text": [
      "The autoreload extension is already loaded. To reload it, use:\n",
      "  %reload_ext autoreload\n"
     ]
    }
   ],
   "source": [
    "%load_ext autoreload\n",
    "%autoreload 2\n",
    "\n",
    "import warnings\n",
    "\n",
    "warnings.filterwarnings(\"ignore\")\n",
    "\n",
    "from loguru import logger\n",
    "from recsys.hopsworks_integration import feature_store, ranking_serving\n",
    "from recsys.training import ranking\n",
    "from recsys.config import settings"
   ]
  },
  {
   "cell_type": "markdown",
   "id": "2b97c1dc",
   "metadata": {},
   "source": [
    "# Training pipeline: Training ranking model"
   ]
  },
  {
   "cell_type": "markdown",
   "id": "33ae7224",
   "metadata": {},
   "source": [
    "## Connect to Hopsworks Feature Store "
   ]
  },
  {
   "cell_type": "code",
   "execution_count": 33,
   "id": "7ccaf69c",
   "metadata": {},
   "outputs": [
    {
     "name": "stderr",
     "output_type": "stream",
     "text": [
      "\u001b[32m2025-08-16 20:13:07.743\u001b[0m | \u001b[1mINFO    \u001b[0m | \u001b[36mrecsys.hopsworks_integration.feature_store\u001b[0m:\u001b[36mget_feature_store\u001b[0m:\u001b[36m10\u001b[0m - \u001b[1mLoging to Hopsworks using HOPSWORKS_API_KEY env var.\u001b[0m\n"
     ]
    },
    {
     "name": "stdout",
     "output_type": "stream",
     "text": [
      "2025-08-16 20:13:07,745 INFO: Closing external client and cleaning up certificates.\n",
      "Connection closed.\n",
      "2025-08-16 20:13:07,748 INFO: Initializing external client\n",
      "2025-08-16 20:13:07,749 INFO: Base URL: https://c.app.hopsworks.ai:443\n"
     ]
    },
    {
     "name": "stderr",
     "output_type": "stream",
     "text": [
      "\n",
      "\n"
     ]
    },
    {
     "name": "stdout",
     "output_type": "stream",
     "text": [
      "2025-08-16 20:13:09,013 INFO: Python Engine initialized.\n",
      "\n",
      "Logged in to project, explore it here https://c.app.hopsworks.ai:443/p/90261\n"
     ]
    }
   ],
   "source": [
    "project, fs = feature_store.get_feature_store()"
   ]
  },
  {
   "cell_type": "markdown",
   "id": "39fdab83",
   "metadata": {},
   "source": [
    "## Getting the training data"
   ]
  },
  {
   "cell_type": "code",
   "execution_count": 45,
   "id": "1cebbea2",
   "metadata": {},
   "outputs": [],
   "source": [
    "feature_view_ranking = feature_store.create_ranking_feature_views(\n",
    "    fs\n",
    ")"
   ]
  },
  {
   "cell_type": "code",
   "execution_count": 46,
   "id": "34409819",
   "metadata": {},
   "outputs": [
    {
     "name": "stdout",
     "output_type": "stream",
     "text": [
      "Finished: Reading data from Hopsworks, using Hopsworks Feature Query Service (7.11s) \n"
     ]
    },
    {
     "name": "stderr",
     "output_type": "stream",
     "text": [
      "VersionWarning: Incremented version to `3`.\n"
     ]
    },
    {
     "data": {
      "text/html": [
       "<div>\n",
       "<style scoped>\n",
       "    .dataframe tbody tr th:only-of-type {\n",
       "        vertical-align: middle;\n",
       "    }\n",
       "\n",
       "    .dataframe tbody tr th {\n",
       "        vertical-align: top;\n",
       "    }\n",
       "\n",
       "    .dataframe thead th {\n",
       "        text-align: right;\n",
       "    }\n",
       "</style>\n",
       "<table border=\"1\" class=\"dataframe\">\n",
       "  <thead>\n",
       "    <tr style=\"text-align: right;\">\n",
       "      <th></th>\n",
       "      <th>age</th>\n",
       "      <th>product_type_name</th>\n",
       "      <th>product_group_name</th>\n",
       "      <th>graphical_appearance_name</th>\n",
       "      <th>colour_group_name</th>\n",
       "      <th>perceived_colour_value_name</th>\n",
       "      <th>perceived_colour_master_name</th>\n",
       "      <th>department_name</th>\n",
       "      <th>index_name</th>\n",
       "      <th>index_group_name</th>\n",
       "      <th>section_name</th>\n",
       "      <th>garment_group_name</th>\n",
       "      <th>month_sin</th>\n",
       "      <th>month_cos</th>\n",
       "    </tr>\n",
       "  </thead>\n",
       "  <tbody>\n",
       "    <tr>\n",
       "      <th>0</th>\n",
       "      <td>32.0</td>\n",
       "      <td>Blouse</td>\n",
       "      <td>Garment Upper body</td>\n",
       "      <td>Solid</td>\n",
       "      <td>Greenish Khaki</td>\n",
       "      <td>Dusty Light</td>\n",
       "      <td>Khaki green</td>\n",
       "      <td>Blouse</td>\n",
       "      <td>Ladieswear</td>\n",
       "      <td>Ladieswear</td>\n",
       "      <td>Womens Tailoring</td>\n",
       "      <td>Blouses</td>\n",
       "      <td>NaN</td>\n",
       "      <td>NaN</td>\n",
       "    </tr>\n",
       "    <tr>\n",
       "      <th>1</th>\n",
       "      <td>25.0</td>\n",
       "      <td>Blouse</td>\n",
       "      <td>Garment Upper body</td>\n",
       "      <td>Stripe</td>\n",
       "      <td>Dark Blue</td>\n",
       "      <td>Dark</td>\n",
       "      <td>Blue</td>\n",
       "      <td>Blouse</td>\n",
       "      <td>Ladieswear</td>\n",
       "      <td>Ladieswear</td>\n",
       "      <td>Womens Casual</td>\n",
       "      <td>Blouses</td>\n",
       "      <td>NaN</td>\n",
       "      <td>NaN</td>\n",
       "    </tr>\n",
       "    <tr>\n",
       "      <th>2</th>\n",
       "      <td>31.0</td>\n",
       "      <td>Shirt</td>\n",
       "      <td>Garment Upper body</td>\n",
       "      <td>Solid</td>\n",
       "      <td>Pink</td>\n",
       "      <td>Medium</td>\n",
       "      <td>Pink</td>\n",
       "      <td>Blouse</td>\n",
       "      <td>Ladieswear</td>\n",
       "      <td>Ladieswear</td>\n",
       "      <td>Womens Everyday Collection</td>\n",
       "      <td>Blouses</td>\n",
       "      <td>NaN</td>\n",
       "      <td>NaN</td>\n",
       "    </tr>\n",
       "  </tbody>\n",
       "</table>\n",
       "</div>"
      ],
      "text/plain": [
       "    age product_type_name  product_group_name graphical_appearance_name  \\\n",
       "0  32.0            Blouse  Garment Upper body                     Solid   \n",
       "1  25.0            Blouse  Garment Upper body                    Stripe   \n",
       "2  31.0             Shirt  Garment Upper body                     Solid   \n",
       "\n",
       "  colour_group_name perceived_colour_value_name perceived_colour_master_name  \\\n",
       "0    Greenish Khaki                 Dusty Light                  Khaki green   \n",
       "1         Dark Blue                        Dark                         Blue   \n",
       "2              Pink                      Medium                         Pink   \n",
       "\n",
       "  department_name  index_name index_group_name                section_name  \\\n",
       "0          Blouse  Ladieswear       Ladieswear            Womens Tailoring   \n",
       "1          Blouse  Ladieswear       Ladieswear               Womens Casual   \n",
       "2          Blouse  Ladieswear       Ladieswear  Womens Everyday Collection   \n",
       "\n",
       "  garment_group_name  month_sin  month_cos  \n",
       "0            Blouses        NaN        NaN  \n",
       "1            Blouses        NaN        NaN  \n",
       "2            Blouses        NaN        NaN  "
      ]
     },
     "execution_count": 46,
     "metadata": {},
     "output_type": "execute_result"
    }
   ],
   "source": [
    "X_train, X_val, y_train, y_val = feature_view_ranking.train_test_split(\n",
    "    test_size=settings.RANKING_DATASET_VALIDATON_SPLIT_SIZE,\n",
    "    description=\"Ranking training dataset\",\n",
    ")\n",
    "X_train.head(3)"
   ]
  },
  {
   "cell_type": "code",
   "execution_count": 10,
   "id": "bd014bb3",
   "metadata": {},
   "outputs": [
    {
     "data": {
      "text/html": [
       "<div>\n",
       "<style scoped>\n",
       "    .dataframe tbody tr th:only-of-type {\n",
       "        vertical-align: middle;\n",
       "    }\n",
       "\n",
       "    .dataframe tbody tr th {\n",
       "        vertical-align: top;\n",
       "    }\n",
       "\n",
       "    .dataframe thead th {\n",
       "        text-align: right;\n",
       "    }\n",
       "</style>\n",
       "<table border=\"1\" class=\"dataframe\">\n",
       "  <thead>\n",
       "    <tr style=\"text-align: right;\">\n",
       "      <th></th>\n",
       "      <th>label</th>\n",
       "    </tr>\n",
       "  </thead>\n",
       "  <tbody>\n",
       "    <tr>\n",
       "      <th>0</th>\n",
       "      <td>0</td>\n",
       "    </tr>\n",
       "    <tr>\n",
       "      <th>1</th>\n",
       "      <td>0</td>\n",
       "    </tr>\n",
       "    <tr>\n",
       "      <th>2</th>\n",
       "      <td>0</td>\n",
       "    </tr>\n",
       "  </tbody>\n",
       "</table>\n",
       "</div>"
      ],
      "text/plain": [
       "   label\n",
       "0      0\n",
       "1      0\n",
       "2      0"
      ]
     },
     "execution_count": 10,
     "metadata": {},
     "output_type": "execute_result"
    }
   ],
   "source": [
    "y_train.head(3)"
   ]
  },
  {
   "cell_type": "markdown",
   "id": "d6180f34",
   "metadata": {},
   "source": [
    "## Training the ranking model"
   ]
  },
  {
   "cell_type": "code",
   "execution_count": 65,
   "id": "5b6024b4",
   "metadata": {},
   "outputs": [],
   "source": [
    "model = ranking.RankingModelFactory.build()\n",
    "trainer = ranking.RankingModelTrainer(\n",
    "    model=model, train_dataset=(X_train, y_train), eval_dataset=(X_val, y_val)\n",
    ")"
   ]
  },
  {
   "cell_type": "code",
   "execution_count": 66,
   "id": "978dc51b",
   "metadata": {},
   "outputs": [
    {
     "name": "stdout",
     "output_type": "stream",
     "text": [
      "0:\tlearn: 0.6895725\ttest: 0.6898138\tbest: 0.6898138 (0)\ttotal: 125ms\tremaining: 12.4s\n",
      "1:\tlearn: 0.6874909\ttest: 0.6879330\tbest: 0.6879330 (1)\ttotal: 171ms\tremaining: 8.36s\n",
      "2:\tlearn: 0.6871920\ttest: 0.6877391\tbest: 0.6877391 (2)\ttotal: 178ms\tremaining: 5.76s\n",
      "3:\tlearn: 0.6848421\ttest: 0.6855559\tbest: 0.6855559 (3)\ttotal: 215ms\tremaining: 5.15s\n",
      "4:\tlearn: 0.6831561\ttest: 0.6848221\tbest: 0.6848221 (4)\ttotal: 253ms\tremaining: 4.81s\n",
      "5:\tlearn: 0.6811348\ttest: 0.6831224\tbest: 0.6831224 (5)\ttotal: 288ms\tremaining: 4.52s\n",
      "6:\tlearn: 0.6801642\ttest: 0.6825381\tbest: 0.6825381 (6)\ttotal: 322ms\tremaining: 4.28s\n",
      "7:\tlearn: 0.6786971\ttest: 0.6816055\tbest: 0.6816055 (7)\ttotal: 358ms\tremaining: 4.12s\n",
      "8:\tlearn: 0.6778101\ttest: 0.6808690\tbest: 0.6808690 (8)\ttotal: 396ms\tremaining: 4s\n",
      "9:\tlearn: 0.6777569\ttest: 0.6808715\tbest: 0.6808690 (8)\ttotal: 407ms\tremaining: 3.66s\n",
      "10:\tlearn: 0.6768264\ttest: 0.6802775\tbest: 0.6802775 (10)\ttotal: 444ms\tremaining: 3.59s\n",
      "11:\tlearn: 0.6767669\ttest: 0.6802510\tbest: 0.6802510 (11)\ttotal: 460ms\tremaining: 3.37s\n",
      "12:\tlearn: 0.6756708\ttest: 0.6796217\tbest: 0.6796217 (12)\ttotal: 495ms\tremaining: 3.31s\n",
      "13:\tlearn: 0.6750325\ttest: 0.6793953\tbest: 0.6793953 (13)\ttotal: 525ms\tremaining: 3.22s\n",
      "14:\tlearn: 0.6749801\ttest: 0.6794328\tbest: 0.6793953 (13)\ttotal: 562ms\tremaining: 3.18s\n",
      "15:\tlearn: 0.6739897\ttest: 0.6788884\tbest: 0.6788884 (15)\ttotal: 600ms\tremaining: 3.15s\n",
      "16:\tlearn: 0.6737055\ttest: 0.6787642\tbest: 0.6787642 (16)\ttotal: 646ms\tremaining: 3.15s\n",
      "17:\tlearn: 0.6735947\ttest: 0.6787320\tbest: 0.6787320 (17)\ttotal: 678ms\tremaining: 3.09s\n",
      "18:\tlearn: 0.6731823\ttest: 0.6784707\tbest: 0.6784707 (18)\ttotal: 696ms\tremaining: 2.97s\n",
      "19:\tlearn: 0.6725834\ttest: 0.6782602\tbest: 0.6782602 (19)\ttotal: 725ms\tremaining: 2.9s\n",
      "20:\tlearn: 0.6725765\ttest: 0.6782610\tbest: 0.6782602 (19)\ttotal: 736ms\tremaining: 2.77s\n",
      "21:\tlearn: 0.6721108\ttest: 0.6780954\tbest: 0.6780954 (21)\ttotal: 771ms\tremaining: 2.73s\n",
      "22:\tlearn: 0.6721098\ttest: 0.6780963\tbest: 0.6780954 (21)\ttotal: 784ms\tremaining: 2.62s\n",
      "23:\tlearn: 0.6720910\ttest: 0.6780659\tbest: 0.6780659 (23)\ttotal: 802ms\tremaining: 2.54s\n",
      "24:\tlearn: 0.6718613\ttest: 0.6779319\tbest: 0.6779319 (24)\ttotal: 833ms\tremaining: 2.5s\n",
      "25:\tlearn: 0.6712164\ttest: 0.6778096\tbest: 0.6778096 (25)\ttotal: 867ms\tremaining: 2.47s\n",
      "26:\tlearn: 0.6712073\ttest: 0.6777980\tbest: 0.6777980 (26)\ttotal: 876ms\tremaining: 2.37s\n",
      "27:\tlearn: 0.6712065\ttest: 0.6777987\tbest: 0.6777980 (26)\ttotal: 889ms\tremaining: 2.29s\n",
      "28:\tlearn: 0.6709510\ttest: 0.6775979\tbest: 0.6775979 (28)\ttotal: 920ms\tremaining: 2.25s\n",
      "29:\tlearn: 0.6708825\ttest: 0.6776199\tbest: 0.6775979 (28)\ttotal: 940ms\tremaining: 2.19s\n",
      "30:\tlearn: 0.6706632\ttest: 0.6775612\tbest: 0.6775612 (30)\ttotal: 970ms\tremaining: 2.16s\n",
      "31:\tlearn: 0.6704501\ttest: 0.6775579\tbest: 0.6775579 (31)\ttotal: 1s\tremaining: 2.13s\n",
      "32:\tlearn: 0.6704500\ttest: 0.6775585\tbest: 0.6775579 (31)\ttotal: 1.01s\tremaining: 2.05s\n",
      "33:\tlearn: 0.6701473\ttest: 0.6774491\tbest: 0.6774491 (33)\ttotal: 1.05s\tremaining: 2.04s\n",
      "34:\tlearn: 0.6700275\ttest: 0.6775095\tbest: 0.6774491 (33)\ttotal: 1.08s\tremaining: 2.01s\n",
      "35:\tlearn: 0.6693914\ttest: 0.6773119\tbest: 0.6773119 (35)\ttotal: 1.11s\tremaining: 1.97s\n",
      "36:\tlearn: 0.6693836\ttest: 0.6772926\tbest: 0.6772926 (36)\ttotal: 1.12s\tremaining: 1.91s\n",
      "37:\tlearn: 0.6691596\ttest: 0.6772609\tbest: 0.6772609 (37)\ttotal: 1.15s\tremaining: 1.88s\n",
      "38:\tlearn: 0.6690033\ttest: 0.6771938\tbest: 0.6771938 (38)\ttotal: 1.18s\tremaining: 1.84s\n",
      "39:\tlearn: 0.6687057\ttest: 0.6770471\tbest: 0.6770471 (39)\ttotal: 1.22s\tremaining: 1.83s\n",
      "40:\tlearn: 0.6686778\ttest: 0.6770444\tbest: 0.6770444 (40)\ttotal: 1.24s\tremaining: 1.78s\n",
      "41:\tlearn: 0.6686408\ttest: 0.6770291\tbest: 0.6770291 (41)\ttotal: 1.27s\tremaining: 1.75s\n",
      "42:\tlearn: 0.6686398\ttest: 0.6770297\tbest: 0.6770291 (41)\ttotal: 1.29s\tremaining: 1.72s\n",
      "43:\tlearn: 0.6686318\ttest: 0.6770273\tbest: 0.6770273 (43)\ttotal: 1.3s\tremaining: 1.66s\n",
      "44:\tlearn: 0.6685892\ttest: 0.6770027\tbest: 0.6770027 (44)\ttotal: 1.34s\tremaining: 1.64s\n",
      "45:\tlearn: 0.6685876\ttest: 0.6770030\tbest: 0.6770027 (44)\ttotal: 1.36s\tremaining: 1.6s\n",
      "46:\tlearn: 0.6681337\ttest: 0.6768690\tbest: 0.6768690 (46)\ttotal: 1.4s\tremaining: 1.58s\n",
      "47:\tlearn: 0.6674211\ttest: 0.6764008\tbest: 0.6764008 (47)\ttotal: 1.44s\tremaining: 1.56s\n",
      "48:\tlearn: 0.6673082\ttest: 0.6763283\tbest: 0.6763283 (48)\ttotal: 1.48s\tremaining: 1.53s\n",
      "49:\tlearn: 0.6672782\ttest: 0.6763295\tbest: 0.6763283 (48)\ttotal: 1.5s\tremaining: 1.5s\n",
      "50:\tlearn: 0.6669550\ttest: 0.6762722\tbest: 0.6762722 (50)\ttotal: 1.53s\tremaining: 1.47s\n",
      "51:\tlearn: 0.6669104\ttest: 0.6762604\tbest: 0.6762604 (51)\ttotal: 1.57s\tremaining: 1.45s\n",
      "52:\tlearn: 0.6660875\ttest: 0.6763049\tbest: 0.6762604 (51)\ttotal: 1.6s\tremaining: 1.42s\n",
      "53:\tlearn: 0.6660860\ttest: 0.6763038\tbest: 0.6762604 (51)\ttotal: 1.61s\tremaining: 1.37s\n",
      "54:\tlearn: 0.6660227\ttest: 0.6762531\tbest: 0.6762531 (54)\ttotal: 1.63s\tremaining: 1.33s\n",
      "55:\tlearn: 0.6657905\ttest: 0.6762273\tbest: 0.6762273 (55)\ttotal: 1.66s\tremaining: 1.31s\n",
      "56:\tlearn: 0.6657437\ttest: 0.6762170\tbest: 0.6762170 (56)\ttotal: 1.69s\tremaining: 1.27s\n",
      "57:\tlearn: 0.6656255\ttest: 0.6761987\tbest: 0.6761987 (57)\ttotal: 1.72s\tremaining: 1.25s\n",
      "58:\tlearn: 0.6655553\ttest: 0.6762347\tbest: 0.6761987 (57)\ttotal: 1.75s\tremaining: 1.22s\n",
      "59:\tlearn: 0.6655552\ttest: 0.6762356\tbest: 0.6761987 (57)\ttotal: 1.77s\tremaining: 1.18s\n",
      "60:\tlearn: 0.6649999\ttest: 0.6762716\tbest: 0.6761987 (57)\ttotal: 1.8s\tremaining: 1.15s\n",
      "61:\tlearn: 0.6648380\ttest: 0.6762187\tbest: 0.6761987 (57)\ttotal: 1.85s\tremaining: 1.13s\n",
      "62:\tlearn: 0.6644313\ttest: 0.6760060\tbest: 0.6760060 (62)\ttotal: 1.9s\tremaining: 1.11s\n",
      "63:\tlearn: 0.6639956\ttest: 0.6758069\tbest: 0.6758069 (63)\ttotal: 1.98s\tremaining: 1.11s\n",
      "64:\tlearn: 0.6636869\ttest: 0.6758154\tbest: 0.6758069 (63)\ttotal: 2.01s\tremaining: 1.08s\n",
      "65:\tlearn: 0.6635391\ttest: 0.6759015\tbest: 0.6758069 (63)\ttotal: 2.04s\tremaining: 1.05s\n",
      "66:\tlearn: 0.6631585\ttest: 0.6757505\tbest: 0.6757505 (66)\ttotal: 2.08s\tremaining: 1.02s\n",
      "67:\tlearn: 0.6626677\ttest: 0.6756882\tbest: 0.6756882 (67)\ttotal: 2.12s\tremaining: 996ms\n",
      "68:\tlearn: 0.6621922\ttest: 0.6754986\tbest: 0.6754986 (68)\ttotal: 2.15s\tremaining: 967ms\n",
      "69:\tlearn: 0.6616347\ttest: 0.6753346\tbest: 0.6753346 (69)\ttotal: 2.19s\tremaining: 940ms\n",
      "70:\tlearn: 0.6607564\ttest: 0.6747053\tbest: 0.6747053 (70)\ttotal: 2.23s\tremaining: 912ms\n",
      "71:\tlearn: 0.6598420\ttest: 0.6741528\tbest: 0.6741528 (71)\ttotal: 2.28s\tremaining: 885ms\n",
      "72:\tlearn: 0.6597257\ttest: 0.6741590\tbest: 0.6741528 (71)\ttotal: 2.32s\tremaining: 858ms\n",
      "73:\tlearn: 0.6594357\ttest: 0.6740864\tbest: 0.6740864 (73)\ttotal: 2.36s\tremaining: 828ms\n",
      "74:\tlearn: 0.6591668\ttest: 0.6737982\tbest: 0.6737982 (74)\ttotal: 2.39s\tremaining: 798ms\n",
      "75:\tlearn: 0.6585293\ttest: 0.6740231\tbest: 0.6737982 (74)\ttotal: 2.43s\tremaining: 769ms\n",
      "76:\tlearn: 0.6577248\ttest: 0.6734546\tbest: 0.6734546 (76)\ttotal: 2.47s\tremaining: 737ms\n",
      "77:\tlearn: 0.6576528\ttest: 0.6734580\tbest: 0.6734546 (76)\ttotal: 2.5s\tremaining: 706ms\n",
      "78:\tlearn: 0.6573612\ttest: 0.6734328\tbest: 0.6734328 (78)\ttotal: 2.54s\tremaining: 675ms\n",
      "79:\tlearn: 0.6570049\ttest: 0.6734610\tbest: 0.6734328 (78)\ttotal: 2.57s\tremaining: 644ms\n",
      "80:\tlearn: 0.6561348\ttest: 0.6731700\tbest: 0.6731700 (80)\ttotal: 2.61s\tremaining: 613ms\n",
      "81:\tlearn: 0.6558418\ttest: 0.6729692\tbest: 0.6729692 (81)\ttotal: 2.65s\tremaining: 582ms\n",
      "82:\tlearn: 0.6553298\ttest: 0.6727171\tbest: 0.6727171 (82)\ttotal: 2.7s\tremaining: 552ms\n",
      "83:\tlearn: 0.6549871\ttest: 0.6727934\tbest: 0.6727171 (82)\ttotal: 2.74s\tremaining: 522ms\n",
      "84:\tlearn: 0.6545874\ttest: 0.6722826\tbest: 0.6722826 (84)\ttotal: 2.79s\tremaining: 492ms\n",
      "85:\tlearn: 0.6543733\ttest: 0.6720385\tbest: 0.6720385 (85)\ttotal: 2.83s\tremaining: 461ms\n",
      "86:\tlearn: 0.6536647\ttest: 0.6718141\tbest: 0.6718141 (86)\ttotal: 2.88s\tremaining: 431ms\n",
      "87:\tlearn: 0.6534376\ttest: 0.6718293\tbest: 0.6718141 (86)\ttotal: 2.93s\tremaining: 399ms\n",
      "88:\tlearn: 0.6528745\ttest: 0.6718277\tbest: 0.6718141 (86)\ttotal: 2.98s\tremaining: 368ms\n",
      "89:\tlearn: 0.6526414\ttest: 0.6717933\tbest: 0.6717933 (89)\ttotal: 3.02s\tremaining: 336ms\n",
      "90:\tlearn: 0.6524893\ttest: 0.6717334\tbest: 0.6717334 (90)\ttotal: 3.08s\tremaining: 304ms\n",
      "91:\tlearn: 0.6519754\ttest: 0.6715016\tbest: 0.6715016 (91)\ttotal: 3.12s\tremaining: 271ms\n",
      "92:\tlearn: 0.6517094\ttest: 0.6713719\tbest: 0.6713719 (92)\ttotal: 3.15s\tremaining: 238ms\n",
      "93:\tlearn: 0.6507227\ttest: 0.6708677\tbest: 0.6708677 (93)\ttotal: 3.19s\tremaining: 204ms\n",
      "94:\tlearn: 0.6503942\ttest: 0.6706316\tbest: 0.6706316 (94)\ttotal: 3.23s\tremaining: 170ms\n",
      "95:\tlearn: 0.6501610\ttest: 0.6703891\tbest: 0.6703891 (95)\ttotal: 3.27s\tremaining: 136ms\n",
      "96:\tlearn: 0.6498990\ttest: 0.6701734\tbest: 0.6701734 (96)\ttotal: 3.3s\tremaining: 102ms\n",
      "97:\tlearn: 0.6498689\ttest: 0.6701665\tbest: 0.6701665 (97)\ttotal: 3.33s\tremaining: 68ms\n",
      "98:\tlearn: 0.6495387\ttest: 0.6702139\tbest: 0.6701665 (97)\ttotal: 3.36s\tremaining: 34ms\n",
      "99:\tlearn: 0.6490739\ttest: 0.6701740\tbest: 0.6701665 (97)\ttotal: 3.4s\tremaining: 0us\n",
      "\n",
      "bestTest = 0.6701664993\n",
      "bestIteration = 97\n",
      "\n",
      "Shrink model to first 98 iterations.\n"
     ]
    },
    {
     "data": {
      "text/plain": [
       "<catboost.core.CatBoostClassifier at 0x767fac5cd820>"
      ]
     },
     "execution_count": 66,
     "metadata": {},
     "output_type": "execute_result"
    }
   ],
   "source": [
    "trainer.fit()"
   ]
  },
  {
   "cell_type": "markdown",
   "id": "be757565",
   "metadata": {},
   "source": [
    "## Evaluating the ranking model"
   ]
  },
  {
   "cell_type": "code",
   "execution_count": 67,
   "id": "fc741502",
   "metadata": {},
   "outputs": [
    {
     "name": "stderr",
     "output_type": "stream",
     "text": [
      "\u001b[32m2025-08-16 20:46:37.325\u001b[0m | \u001b[1mINFO    \u001b[0m | \u001b[36mrecsys.training.ranking\u001b[0m:\u001b[36mevaluate\u001b[0m:\u001b[36m62\u001b[0m - \u001b[1m              precision    recall  f1-score   support\n",
      "\n",
      "           0       0.93      0.61      0.74     19878\n",
      "           1       0.12      0.54      0.20      1966\n",
      "\n",
      "    accuracy                           0.61     21844\n",
      "   macro avg       0.53      0.58      0.47     21844\n",
      "weighted avg       0.86      0.61      0.69     21844\n",
      "\u001b[0m\n"
     ]
    }
   ],
   "source": [
    "metrics = trainer.evaluate(log=True)"
   ]
  },
  {
   "cell_type": "code",
   "execution_count": 68,
   "id": "fe664026",
   "metadata": {},
   "outputs": [
    {
     "data": {
      "text/plain": [
       "{'age': 28.51168383484209,\n",
       " 'index_name': 10.433638975796548,\n",
       " 'section_name': 9.250007002901508,\n",
       " 'department_name': 8.785307236168105,\n",
       " 'product_group_name': 8.126771866184086,\n",
       " 'index_group_name': 6.777395035822253,\n",
       " 'product_type_name': 6.591389949822486,\n",
       " 'garment_group_name': 6.565098393222948,\n",
       " 'graphical_appearance_name': 5.311707555007342,\n",
       " 'perceived_colour_master_name': 3.9039446933111943,\n",
       " 'colour_group_name': 3.337645871100222,\n",
       " 'perceived_colour_value_name': 2.405409585821184,\n",
       " 'month_sin': 0.0,\n",
       " 'month_cos': 0.0}"
      ]
     },
     "execution_count": 68,
     "metadata": {},
     "output_type": "execute_result"
    }
   ],
   "source": [
    "trainer.get_feature_importance()"
   ]
  },
  {
   "cell_type": "markdown",
   "id": "5f421fd3",
   "metadata": {},
   "source": [
    "# Uploading the model to Hopsworks model registry"
   ]
  },
  {
   "cell_type": "code",
   "execution_count": 62,
   "id": "ae1a1af9",
   "metadata": {},
   "outputs": [],
   "source": [
    "mr = project.get_model_registry()"
   ]
  },
  {
   "cell_type": "code",
   "execution_count": null,
   "id": "66c1ab03",
   "metadata": {},
   "outputs": [
    {
     "name": "stderr",
     "output_type": "stream",
     "text": [
      "Uploading /home/massyl/projects/personalized-recommender-project/notebooks/ranking_model.pkl: 100.000%|██████████| 1510787/1510787 elapsed<00:03 remaining<00:00\n",
      "Uploading /home/massyl/projects/personalized-recommender-project/notebooks/input_example.json: 100.000%|██████████| 434/434 elapsed<00:01 remaining<00:00\n",
      "Uploading /home/massyl/projects/personalized-recommender-project/notebooks/model_schema.json: 100.000%|██████████| 1269/1269 elapsed<00:01 remaining<00:00\n",
      "Model export complete: 100%|██████████| 6/6 [00:13<00:00,  2.27s/it]                   "
     ]
    },
    {
     "name": "stdout",
     "output_type": "stream",
     "text": [
      "Model created, explore it at https://c.app.hopsworks.ai:443/p/90261/models/ranking_model/1\n"
     ]
    },
    {
     "name": "stderr",
     "output_type": "stream",
     "text": [
      "\n"
     ]
    }
   ],
   "source": [
    "ranking_module = ranking_serving.HopsworksRankingModel(model=model)\n",
    "ranking_module.register(mr, feature_view_ranking, X_train, metrics)"
   ]
  },
  {
   "cell_type": "code",
   "execution_count": 70,
   "id": "f230c435",
   "metadata": {},
   "outputs": [
    {
     "name": "stderr",
     "output_type": "stream",
     "text": [
      "\u001b[32m2025-08-16 20:47:09.987\u001b[0m | \u001b[1mINFO    \u001b[0m | \u001b[36m__main__\u001b[0m:\u001b[36m<module>\u001b[0m:\u001b[36m4\u001b[0m - \u001b[1m⌛️ Notebook Execution time: 3885.72 seconds ~ 64.76 minutes\u001b[0m\n"
     ]
    }
   ],
   "source": [
    "notebook_end_time = time.time()\n",
    "notebook_execution_time = notebook_end_time - notebook_start_time\n",
    "\n",
    "logger.info(\n",
    "    f\"⌛️ Notebook Execution time: {notebook_execution_time:.2f} seconds ~ {notebook_execution_time / 60:.2f} minutes\"\n",
    ")"
   ]
  }
 ],
 "metadata": {
  "kernelspec": {
   "display_name": "personalized-recommender-project-nc9_7idR-py3.12",
   "language": "python",
   "name": "python3"
  },
  "language_info": {
   "codemirror_mode": {
    "name": "ipython",
    "version": 3
   },
   "file_extension": ".py",
   "mimetype": "text/x-python",
   "name": "python",
   "nbconvert_exporter": "python",
   "pygments_lexer": "ipython3",
   "version": "3.12.3"
  }
 },
 "nbformat": 4,
 "nbformat_minor": 5
}
