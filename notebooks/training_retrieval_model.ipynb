{
 "cells": [
  {
   "cell_type": "code",
   "execution_count": 1,
   "id": "1124e461",
   "metadata": {},
   "outputs": [],
   "source": [
    "import time\n",
    "notebook_start_time = time.time()"
   ]
  },
  {
   "cell_type": "code",
   "execution_count": 2,
   "id": "03131356",
   "metadata": {},
   "outputs": [],
   "source": [
    "import sys\n",
    "from pathlib import Path\n",
    "\n",
    "root_dir = str(Path().absolute().parent)\n",
    "sys.path.append(root_dir)"
   ]
  },
  {
   "cell_type": "code",
   "execution_count": null,
   "id": "367297e6",
   "metadata": {},
   "outputs": [
    {
     "name": "stdout",
     "output_type": "stream",
     "text": [
      "\n",
      "\u001b[1m[\u001b[0m\u001b[34;49mnotice\u001b[0m\u001b[1;39;49m]\u001b[0m\u001b[39;49m A new release of pip is available: \u001b[0m\u001b[31;49m24.3.1\u001b[0m\u001b[39;49m -> \u001b[0m\u001b[32;49m25.2\u001b[0m\n",
      "\u001b[1m[\u001b[0m\u001b[34;49mnotice\u001b[0m\u001b[1;39;49m]\u001b[0m\u001b[39;49m To update, run: \u001b[0m\u001b[32;49mpip install --upgrade pip\u001b[0m\n",
      "\n",
      "\u001b[1m[\u001b[0m\u001b[34;49mnotice\u001b[0m\u001b[1;39;49m]\u001b[0m\u001b[39;49m A new release of pip is available: \u001b[0m\u001b[31;49m24.3.1\u001b[0m\u001b[39;49m -> \u001b[0m\u001b[32;49m25.2\u001b[0m\n",
      "\u001b[1m[\u001b[0m\u001b[34;49mnotice\u001b[0m\u001b[1;39;49m]\u001b[0m\u001b[39;49m To update, run: \u001b[0m\u001b[32;49mpip install --upgrade pip\u001b[0m\n",
      "Requirement already satisfied: tf_keras==2.17.0 in /root/.cache/pypoetry/virtualenvs/personalized-recommender-project-nc9_7idR-py3.12/lib/python3.12/site-packages (2.17.0)\n",
      "Requirement already satisfied: tensorflow<2.18,>=2.17 in /root/.cache/pypoetry/virtualenvs/personalized-recommender-project-nc9_7idR-py3.12/lib/python3.12/site-packages (from tf_keras==2.17.0) (2.17.0)\n",
      "Requirement already satisfied: absl-py>=1.0.0 in /root/.cache/pypoetry/virtualenvs/personalized-recommender-project-nc9_7idR-py3.12/lib/python3.12/site-packages (from tensorflow<2.18,>=2.17->tf_keras==2.17.0) (2.3.1)\n",
      "Requirement already satisfied: astunparse>=1.6.0 in /root/.cache/pypoetry/virtualenvs/personalized-recommender-project-nc9_7idR-py3.12/lib/python3.12/site-packages (from tensorflow<2.18,>=2.17->tf_keras==2.17.0) (1.6.3)\n",
      "Requirement already satisfied: flatbuffers>=24.3.25 in /root/.cache/pypoetry/virtualenvs/personalized-recommender-project-nc9_7idR-py3.12/lib/python3.12/site-packages (from tensorflow<2.18,>=2.17->tf_keras==2.17.0) (25.2.10)\n",
      "Requirement already satisfied: gast!=0.5.0,!=0.5.1,!=0.5.2,>=0.2.1 in /root/.cache/pypoetry/virtualenvs/personalized-recommender-project-nc9_7idR-py3.12/lib/python3.12/site-packages (from tensorflow<2.18,>=2.17->tf_keras==2.17.0) (0.6.0)\n",
      "Requirement already satisfied: google-pasta>=0.1.1 in /root/.cache/pypoetry/virtualenvs/personalized-recommender-project-nc9_7idR-py3.12/lib/python3.12/site-packages (from tensorflow<2.18,>=2.17->tf_keras==2.17.0) (0.2.0)\n",
      "Requirement already satisfied: h5py>=3.10.0 in /root/.cache/pypoetry/virtualenvs/personalized-recommender-project-nc9_7idR-py3.12/lib/python3.12/site-packages (from tensorflow<2.18,>=2.17->tf_keras==2.17.0) (3.14.0)\n",
      "Requirement already satisfied: libclang>=13.0.0 in /root/.cache/pypoetry/virtualenvs/personalized-recommender-project-nc9_7idR-py3.12/lib/python3.12/site-packages (from tensorflow<2.18,>=2.17->tf_keras==2.17.0) (18.1.1)\n",
      "Requirement already satisfied: ml-dtypes<0.5.0,>=0.3.1 in /root/.cache/pypoetry/virtualenvs/personalized-recommender-project-nc9_7idR-py3.12/lib/python3.12/site-packages (from tensorflow<2.18,>=2.17->tf_keras==2.17.0) (0.4.1)\n",
      "Requirement already satisfied: opt-einsum>=2.3.2 in /root/.cache/pypoetry/virtualenvs/personalized-recommender-project-nc9_7idR-py3.12/lib/python3.12/site-packages (from tensorflow<2.18,>=2.17->tf_keras==2.17.0) (3.4.0)\n",
      "Requirement already satisfied: packaging in /root/.cache/pypoetry/virtualenvs/personalized-recommender-project-nc9_7idR-py3.12/lib/python3.12/site-packages (from tensorflow<2.18,>=2.17->tf_keras==2.17.0) (25.0)\n",
      "Requirement already satisfied: protobuf!=4.21.0,!=4.21.1,!=4.21.2,!=4.21.3,!=4.21.4,!=4.21.5,<5.0.0dev,>=3.20.3 in /root/.cache/pypoetry/virtualenvs/personalized-recommender-project-nc9_7idR-py3.12/lib/python3.12/site-packages (from tensorflow<2.18,>=2.17->tf_keras==2.17.0) (4.25.8)\n",
      "Requirement already satisfied: requests<3,>=2.21.0 in /root/.cache/pypoetry/virtualenvs/personalized-recommender-project-nc9_7idR-py3.12/lib/python3.12/site-packages (from tensorflow<2.18,>=2.17->tf_keras==2.17.0) (2.32.4)\n",
      "Requirement already satisfied: setuptools in /root/.cache/pypoetry/virtualenvs/personalized-recommender-project-nc9_7idR-py3.12/lib/python3.12/site-packages (from tensorflow<2.18,>=2.17->tf_keras==2.17.0) (80.9.0)\n",
      "Requirement already satisfied: six>=1.12.0 in /root/.cache/pypoetry/virtualenvs/personalized-recommender-project-nc9_7idR-py3.12/lib/python3.12/site-packages (from tensorflow<2.18,>=2.17->tf_keras==2.17.0) (1.17.0)\n",
      "Requirement already satisfied: termcolor>=1.1.0 in /root/.cache/pypoetry/virtualenvs/personalized-recommender-project-nc9_7idR-py3.12/lib/python3.12/site-packages (from tensorflow<2.18,>=2.17->tf_keras==2.17.0) (3.1.0)\n",
      "Requirement already satisfied: typing-extensions>=3.6.6 in /root/.cache/pypoetry/virtualenvs/personalized-recommender-project-nc9_7idR-py3.12/lib/python3.12/site-packages (from tensorflow<2.18,>=2.17->tf_keras==2.17.0) (4.14.1)\n",
      "Requirement already satisfied: wrapt>=1.11.0 in /root/.cache/pypoetry/virtualenvs/personalized-recommender-project-nc9_7idR-py3.12/lib/python3.12/site-packages (from tensorflow<2.18,>=2.17->tf_keras==2.17.0) (1.17.3)\n",
      "Requirement already satisfied: grpcio<2.0,>=1.24.3 in /root/.cache/pypoetry/virtualenvs/personalized-recommender-project-nc9_7idR-py3.12/lib/python3.12/site-packages (from tensorflow<2.18,>=2.17->tf_keras==2.17.0) (1.74.0)\n",
      "Requirement already satisfied: tensorboard<2.18,>=2.17 in /root/.cache/pypoetry/virtualenvs/personalized-recommender-project-nc9_7idR-py3.12/lib/python3.12/site-packages (from tensorflow<2.18,>=2.17->tf_keras==2.17.0) (2.17.1)\n",
      "Requirement already satisfied: keras>=3.2.0 in /root/.cache/pypoetry/virtualenvs/personalized-recommender-project-nc9_7idR-py3.12/lib/python3.12/site-packages (from tensorflow<2.18,>=2.17->tf_keras==2.17.0) (3.11.2)\n",
      "Requirement already satisfied: numpy<2.0.0,>=1.26.0 in /root/.cache/pypoetry/virtualenvs/personalized-recommender-project-nc9_7idR-py3.12/lib/python3.12/site-packages (from tensorflow<2.18,>=2.17->tf_keras==2.17.0) (1.26.4)\n",
      "Requirement already satisfied: wheel<1.0,>=0.23.0 in /root/.cache/pypoetry/virtualenvs/personalized-recommender-project-nc9_7idR-py3.12/lib/python3.12/site-packages (from astunparse>=1.6.0->tensorflow<2.18,>=2.17->tf_keras==2.17.0) (0.45.1)\n",
      "Requirement already satisfied: rich in /root/.cache/pypoetry/virtualenvs/personalized-recommender-project-nc9_7idR-py3.12/lib/python3.12/site-packages (from keras>=3.2.0->tensorflow<2.18,>=2.17->tf_keras==2.17.0) (14.1.0)\n",
      "Requirement already satisfied: namex in /root/.cache/pypoetry/virtualenvs/personalized-recommender-project-nc9_7idR-py3.12/lib/python3.12/site-packages (from keras>=3.2.0->tensorflow<2.18,>=2.17->tf_keras==2.17.0) (0.1.0)\n",
      "Requirement already satisfied: optree in /root/.cache/pypoetry/virtualenvs/personalized-recommender-project-nc9_7idR-py3.12/lib/python3.12/site-packages (from keras>=3.2.0->tensorflow<2.18,>=2.17->tf_keras==2.17.0) (0.17.0)\n",
      "Requirement already satisfied: charset_normalizer<4,>=2 in /root/.cache/pypoetry/virtualenvs/personalized-recommender-project-nc9_7idR-py3.12/lib/python3.12/site-packages (from requests<3,>=2.21.0->tensorflow<2.18,>=2.17->tf_keras==2.17.0) (3.4.3)\n",
      "Requirement already satisfied: idna<4,>=2.5 in /root/.cache/pypoetry/virtualenvs/personalized-recommender-project-nc9_7idR-py3.12/lib/python3.12/site-packages (from requests<3,>=2.21.0->tensorflow<2.18,>=2.17->tf_keras==2.17.0) (3.10)\n",
      "Requirement already satisfied: urllib3<3,>=1.21.1 in /root/.cache/pypoetry/virtualenvs/personalized-recommender-project-nc9_7idR-py3.12/lib/python3.12/site-packages (from requests<3,>=2.21.0->tensorflow<2.18,>=2.17->tf_keras==2.17.0) (2.5.0)\n",
      "Requirement already satisfied: certifi>=2017.4.17 in /root/.cache/pypoetry/virtualenvs/personalized-recommender-project-nc9_7idR-py3.12/lib/python3.12/site-packages (from requests<3,>=2.21.0->tensorflow<2.18,>=2.17->tf_keras==2.17.0) (2025.8.3)\n",
      "Requirement already satisfied: markdown>=2.6.8 in /root/.cache/pypoetry/virtualenvs/personalized-recommender-project-nc9_7idR-py3.12/lib/python3.12/site-packages (from tensorboard<2.18,>=2.17->tensorflow<2.18,>=2.17->tf_keras==2.17.0) (3.8.2)\n",
      "Requirement already satisfied: tensorboard-data-server<0.8.0,>=0.7.0 in /root/.cache/pypoetry/virtualenvs/personalized-recommender-project-nc9_7idR-py3.12/lib/python3.12/site-packages (from tensorboard<2.18,>=2.17->tensorflow<2.18,>=2.17->tf_keras==2.17.0) (0.7.2)\n",
      "Requirement already satisfied: werkzeug>=1.0.1 in /root/.cache/pypoetry/virtualenvs/personalized-recommender-project-nc9_7idR-py3.12/lib/python3.12/site-packages (from tensorboard<2.18,>=2.17->tensorflow<2.18,>=2.17->tf_keras==2.17.0) (3.1.3)\n",
      "Requirement already satisfied: MarkupSafe>=2.1.1 in /root/.cache/pypoetry/virtualenvs/personalized-recommender-project-nc9_7idR-py3.12/lib/python3.12/site-packages (from werkzeug>=1.0.1->tensorboard<2.18,>=2.17->tensorflow<2.18,>=2.17->tf_keras==2.17.0) (3.0.2)\n",
      "Requirement already satisfied: markdown-it-py>=2.2.0 in /root/.cache/pypoetry/virtualenvs/personalized-recommender-project-nc9_7idR-py3.12/lib/python3.12/site-packages (from rich->keras>=3.2.0->tensorflow<2.18,>=2.17->tf_keras==2.17.0) (4.0.0)\n",
      "Requirement already satisfied: pygments<3.0.0,>=2.13.0 in /root/.cache/pypoetry/virtualenvs/personalized-recommender-project-nc9_7idR-py3.12/lib/python3.12/site-packages (from rich->keras>=3.2.0->tensorflow<2.18,>=2.17->tf_keras==2.17.0) (2.19.2)\n",
      "Requirement already satisfied: mdurl~=0.1 in /root/.cache/pypoetry/virtualenvs/personalized-recommender-project-nc9_7idR-py3.12/lib/python3.12/site-packages (from markdown-it-py>=2.2.0->rich->keras>=3.2.0->tensorflow<2.18,>=2.17->tf_keras==2.17.0) (0.1.2)\n",
      "\n",
      "\u001b[1m[\u001b[0m\u001b[34;49mnotice\u001b[0m\u001b[1;39;49m]\u001b[0m\u001b[39;49m A new release of pip is available: \u001b[0m\u001b[31;49m24.3.1\u001b[0m\u001b[39;49m -> \u001b[0m\u001b[32;49m25.2\u001b[0m\n",
      "\u001b[1m[\u001b[0m\u001b[34;49mnotice\u001b[0m\u001b[1;39;49m]\u001b[0m\u001b[39;49m To update, run: \u001b[0m\u001b[32;49mpip install --upgrade pip\u001b[0m\n"
     ]
    }
   ],
   "source": [
    "import os\n",
    "os.environ[\"TF_USE_LEGACY_KERAS\"] = \"1\"\n",
    "!pip install tf_keras==2.17.0"
   ]
  },
  {
   "cell_type": "code",
   "execution_count": 18,
   "id": "725e26fa",
   "metadata": {},
   "outputs": [
    {
     "name": "stdout",
     "output_type": "stream",
     "text": [
      "The autoreload extension is already loaded. To reload it, use:\n",
      "  %reload_ext autoreload\n"
     ]
    }
   ],
   "source": [
    "%load_ext autoreload\n",
    "%autoreload 2\n",
    "\n",
    "import warnings\n",
    "warnings.filterwarnings(\"ignore\")\n",
    "\n",
    "from loguru import logger\n",
    "\n",
    "from recsys.hopsworks_integration import feature_store, two_tower_serving\n",
    "from recsys.config import settings\n",
    "from recsys.training.two_tower import *"
   ]
  },
  {
   "cell_type": "markdown",
   "id": "224d4914",
   "metadata": {},
   "source": [
    "## Connect to Hopsworks Feature Store "
   ]
  },
  {
   "cell_type": "code",
   "execution_count": 5,
   "id": "dd7fb299",
   "metadata": {},
   "outputs": [
    {
     "name": "stderr",
     "output_type": "stream",
     "text": [
      "\u001b[32m2025-08-12 16:45:30.417\u001b[0m | \u001b[1mINFO    \u001b[0m | \u001b[36mrecsys.hopsworks_integration.feature_store\u001b[0m:\u001b[36mget_feature_store\u001b[0m:\u001b[36m10\u001b[0m - \u001b[1mLoging to Hopsworks using HOPSWORKS_API_KEY env var.\u001b[0m\n"
     ]
    },
    {
     "name": "stdout",
     "output_type": "stream",
     "text": [
      "2025-08-12 16:45:30,419 INFO: Initializing external client\n",
      "2025-08-12 16:45:30,419 INFO: Base URL: https://c.app.hopsworks.ai:443\n"
     ]
    },
    {
     "name": "stderr",
     "output_type": "stream",
     "text": [
      "\n",
      "\n"
     ]
    },
    {
     "name": "stdout",
     "output_type": "stream",
     "text": [
      "2025-08-12 16:45:32,176 INFO: Python Engine initialized.\n",
      "\n",
      "Logged in to project, explore it here https://c.app.hopsworks.ai:443/p/90261\n"
     ]
    }
   ],
   "source": [
    "project, fs = feature_store.get_feature_store()"
   ]
  },
  {
   "cell_type": "markdown",
   "id": "ceedb610",
   "metadata": {},
   "source": [
    "## Create Hopsworks Feature Views"
   ]
  },
  {
   "cell_type": "code",
   "execution_count": 6,
   "id": "87d01f64",
   "metadata": {},
   "outputs": [],
   "source": [
    "feature_view = feature_store.create_retrieval_feature_view(fs)"
   ]
  },
  {
   "cell_type": "markdown",
   "id": "e4367f58",
   "metadata": {},
   "source": [
    "## Create training dataset"
   ]
  },
  {
   "cell_type": "code",
   "execution_count": 7,
   "id": "0ca685f2",
   "metadata": {},
   "outputs": [
    {
     "name": "stderr",
     "output_type": "stream",
     "text": [
      "\u001b[32m2025-08-12 16:45:38.095\u001b[0m | \u001b[1mINFO    \u001b[0m | \u001b[36mrecsys.training.two_tower\u001b[0m:\u001b[36mget_train_val_split\u001b[0m:\u001b[36m43\u001b[0m - \u001b[1mRetrieving and creating train, val test split...\u001b[0m\n"
     ]
    },
    {
     "name": "stdout",
     "output_type": "stream",
     "text": [
      "Finished: Reading data from Hopsworks, using Hopsworks Feature Query Service (6.16s) \n"
     ]
    },
    {
     "name": "stderr",
     "output_type": "stream",
     "text": [
      "VersionWarning: Incremented version to `14`.\n",
      "WARNING: All log messages before absl::InitializeLog() is called are written to STDERR\n",
      "I0000 00:00:1755009950.951920   30844 cuda_executor.cc:1001] could not open file to read NUMA node: /sys/bus/pci/devices/0000:09:00.0/numa_node\n",
      "Your kernel may have been built without NUMA support.\n",
      "2025-08-12 16:45:51.208791: W tensorflow/core/common_runtime/gpu/gpu_device.cc:2343] Cannot dlopen some GPU libraries. Please make sure the missing libraries mentioned above are installed properly if you would like to use GPU. Follow the guide at https://www.tensorflow.org/install/gpu for how to download and setup the required libraries for your platform.\n",
      "Skipping registering GPU devices...\n"
     ]
    }
   ],
   "source": [
    "dataset = TwoTowerDataset(\n",
    "    feature_view=feature_view, batch_size=settings.TWO_TOWER_MODEL_BATCH_SIZE\n",
    ")\n",
    "train_ds, val_ds = dataset.get_train_val_split()"
   ]
  },
  {
   "cell_type": "code",
   "execution_count": 8,
   "id": "dbcda6a4",
   "metadata": {},
   "outputs": [
    {
     "name": "stderr",
     "output_type": "stream",
     "text": [
      "\u001b[32m2025-08-12 16:45:51.298\u001b[0m | \u001b[1mINFO    \u001b[0m | \u001b[36m__main__\u001b[0m:\u001b[36m<module>\u001b[0m:\u001b[36m1\u001b[0m - \u001b[1mTraining samples: 16,300\u001b[0m\n",
      "\u001b[32m2025-08-12 16:45:51.299\u001b[0m | \u001b[1mINFO    \u001b[0m | \u001b[36m__main__\u001b[0m:\u001b[36m<module>\u001b[0m:\u001b[36m2\u001b[0m - \u001b[1mValidation samples: 2,037\u001b[0m\n",
      "\u001b[32m2025-08-12 16:45:51.300\u001b[0m | \u001b[1mINFO    \u001b[0m | \u001b[36m__main__\u001b[0m:\u001b[36m<module>\u001b[0m:\u001b[36m4\u001b[0m - \u001b[1mNumber of users: 959\u001b[0m\n",
      "\u001b[32m2025-08-12 16:45:51.301\u001b[0m | \u001b[1mINFO    \u001b[0m | \u001b[36m__main__\u001b[0m:\u001b[36m<module>\u001b[0m:\u001b[36m5\u001b[0m - \u001b[1mNumber of items: 11,842\u001b[0m\n"
     ]
    }
   ],
   "source": [
    "logger.info(f\"Training samples: {len(dataset.properties['train_df']):,}\")\n",
    "logger.info(f\"Validation samples: {len(dataset.properties['val_df']):,}\")\n",
    "\n",
    "logger.info(f\"Number of users: {len(dataset.properties['user_ids']):,}\")\n",
    "logger.info(f\"Number of items: {len(dataset.properties['item_ids']):,}\")"
   ]
  },
  {
   "cell_type": "code",
   "execution_count": 9,
   "id": "b48b0eff",
   "metadata": {},
   "outputs": [
    {
     "data": {
      "text/html": [
       "<div>\n",
       "<style scoped>\n",
       "    .dataframe tbody tr th:only-of-type {\n",
       "        vertical-align: middle;\n",
       "    }\n",
       "\n",
       "    .dataframe tbody tr th {\n",
       "        vertical-align: top;\n",
       "    }\n",
       "\n",
       "    .dataframe thead th {\n",
       "        text-align: right;\n",
       "    }\n",
       "</style>\n",
       "<table border=\"1\" class=\"dataframe\">\n",
       "  <thead>\n",
       "    <tr style=\"text-align: right;\">\n",
       "      <th></th>\n",
       "      <th>customer_id</th>\n",
       "      <th>article_id</th>\n",
       "      <th>t_dat</th>\n",
       "      <th>price</th>\n",
       "      <th>month_sin</th>\n",
       "      <th>month_cos</th>\n",
       "      <th>age</th>\n",
       "      <th>club_member_status</th>\n",
       "      <th>age_group</th>\n",
       "      <th>garment_group_name</th>\n",
       "      <th>index_group_name</th>\n",
       "    </tr>\n",
       "  </thead>\n",
       "  <tbody>\n",
       "    <tr>\n",
       "      <th>0</th>\n",
       "      <td>f7048acb8188d98bde3a5c495475a3c86faafe0eede1f2...</td>\n",
       "      <td>670265002</td>\n",
       "      <td>0</td>\n",
       "      <td>0.013542</td>\n",
       "      <td>-8.660254e-01</td>\n",
       "      <td>0.500000</td>\n",
       "      <td>48.0</td>\n",
       "      <td>ACTIVE</td>\n",
       "      <td>46-55</td>\n",
       "      <td>Under-, Nightwear</td>\n",
       "      <td>Ladieswear</td>\n",
       "    </tr>\n",
       "    <tr>\n",
       "      <th>1</th>\n",
       "      <td>5d34f84e6cbe9ec4706872bb65376097af1e53f0c7dac5...</td>\n",
       "      <td>751471035</td>\n",
       "      <td>0</td>\n",
       "      <td>0.033881</td>\n",
       "      <td>1.224647e-16</td>\n",
       "      <td>-1.000000</td>\n",
       "      <td>30.0</td>\n",
       "      <td>ACTIVE</td>\n",
       "      <td>26-35</td>\n",
       "      <td>Trousers</td>\n",
       "      <td>Ladieswear</td>\n",
       "    </tr>\n",
       "    <tr>\n",
       "      <th>2</th>\n",
       "      <td>baf6dc7ea8575732794751bb80824fe84fd40e6af86193...</td>\n",
       "      <td>719308002</td>\n",
       "      <td>0</td>\n",
       "      <td>0.059305</td>\n",
       "      <td>5.000000e-01</td>\n",
       "      <td>-0.866025</td>\n",
       "      <td>48.0</td>\n",
       "      <td>ACTIVE</td>\n",
       "      <td>46-55</td>\n",
       "      <td>Dresses Ladies</td>\n",
       "      <td>Divided</td>\n",
       "    </tr>\n",
       "    <tr>\n",
       "      <th>3</th>\n",
       "      <td>288a5255c2c11ba15d0585466a85900e4f334b2b19184e...</td>\n",
       "      <td>759231002</td>\n",
       "      <td>0</td>\n",
       "      <td>0.059305</td>\n",
       "      <td>1.224647e-16</td>\n",
       "      <td>-1.000000</td>\n",
       "      <td>77.0</td>\n",
       "      <td>ACTIVE</td>\n",
       "      <td>66+</td>\n",
       "      <td>Dresses Ladies</td>\n",
       "      <td>Ladieswear</td>\n",
       "    </tr>\n",
       "    <tr>\n",
       "      <th>5</th>\n",
       "      <td>19ed12b3909e6d4fdb7e858c894d102e02d88691e98cf3...</td>\n",
       "      <td>793911001</td>\n",
       "      <td>0</td>\n",
       "      <td>0.033881</td>\n",
       "      <td>1.224647e-16</td>\n",
       "      <td>-1.000000</td>\n",
       "      <td>29.0</td>\n",
       "      <td>ACTIVE</td>\n",
       "      <td>26-35</td>\n",
       "      <td>Blouses</td>\n",
       "      <td>Ladieswear</td>\n",
       "    </tr>\n",
       "  </tbody>\n",
       "</table>\n",
       "</div>"
      ],
      "text/plain": [
       "                                         customer_id article_id  t_dat  \\\n",
       "0  f7048acb8188d98bde3a5c495475a3c86faafe0eede1f2...  670265002      0   \n",
       "1  5d34f84e6cbe9ec4706872bb65376097af1e53f0c7dac5...  751471035      0   \n",
       "2  baf6dc7ea8575732794751bb80824fe84fd40e6af86193...  719308002      0   \n",
       "3  288a5255c2c11ba15d0585466a85900e4f334b2b19184e...  759231002      0   \n",
       "5  19ed12b3909e6d4fdb7e858c894d102e02d88691e98cf3...  793911001      0   \n",
       "\n",
       "      price     month_sin  month_cos   age club_member_status age_group  \\\n",
       "0  0.013542 -8.660254e-01   0.500000  48.0             ACTIVE     46-55   \n",
       "1  0.033881  1.224647e-16  -1.000000  30.0             ACTIVE     26-35   \n",
       "2  0.059305  5.000000e-01  -0.866025  48.0             ACTIVE     46-55   \n",
       "3  0.059305  1.224647e-16  -1.000000  77.0             ACTIVE       66+   \n",
       "5  0.033881  1.224647e-16  -1.000000  29.0             ACTIVE     26-35   \n",
       "\n",
       "  garment_group_name index_group_name  \n",
       "0  Under-, Nightwear       Ladieswear  \n",
       "1           Trousers       Ladieswear  \n",
       "2     Dresses Ladies          Divided  \n",
       "3     Dresses Ladies       Ladieswear  \n",
       "5            Blouses       Ladieswear  "
      ]
     },
     "execution_count": 9,
     "metadata": {},
     "output_type": "execute_result"
    }
   ],
   "source": [
    "dataset.properties[\"train_df\"].head()"
   ]
  },
  {
   "cell_type": "markdown",
   "id": "adfd996c",
   "metadata": {},
   "source": [
    "## Build the Two Tower model"
   ]
  },
  {
   "cell_type": "code",
   "execution_count": 10,
   "id": "f3bd2470",
   "metadata": {},
   "outputs": [],
   "source": [
    "query_model_factory = QueryTowerFactory(dataset=dataset)\n",
    "query_model = query_model_factory.build()"
   ]
  },
  {
   "cell_type": "code",
   "execution_count": 11,
   "id": "13a67aa6",
   "metadata": {},
   "outputs": [],
   "source": [
    "item_model_factory = ItemTowerFactory(dataset=dataset)\n",
    "item_model = item_model_factory.build()"
   ]
  },
  {
   "cell_type": "code",
   "execution_count": 12,
   "id": "e3d91426",
   "metadata": {},
   "outputs": [],
   "source": [
    "model_factory = TwoTowerFactory(dataset=dataset)\n",
    "model = model_factory.build(query_model=query_model, item_model=item_model)"
   ]
  },
  {
   "cell_type": "code",
   "execution_count": 13,
   "id": "0ea234e4",
   "metadata": {},
   "outputs": [
    {
     "name": "stdout",
     "output_type": "stream",
     "text": [
      "Epoch 1/10\n",
      "8/8 [==============================] - 1s 59ms/step - loss: 15511.3829 - regularization_loss: 0.0000e+00 - total_loss: 15511.3829 - val_factorized_top_k/top_1_categorical_accuracy: 0.0000e+00 - val_factorized_top_k/top_5_categorical_accuracy: 0.0000e+00 - val_factorized_top_k/top_10_categorical_accuracy: 0.0000e+00 - val_factorized_top_k/top_50_categorical_accuracy: 0.0000e+00 - val_factorized_top_k/top_100_categorical_accuracy: 0.0000e+00 - val_loss: 15437.3203 - val_regularization_loss: 0.0000e+00 - val_total_loss: 15437.3203\n",
      "Epoch 2/10\n",
      "8/8 [==============================] - 0s 33ms/step - loss: 15257.7411 - regularization_loss: 0.0000e+00 - total_loss: 15257.7411 - val_factorized_top_k/top_1_categorical_accuracy: 0.0000e+00 - val_factorized_top_k/top_5_categorical_accuracy: 0.0000e+00 - val_factorized_top_k/top_10_categorical_accuracy: 0.0000e+00 - val_factorized_top_k/top_50_categorical_accuracy: 0.0000e+00 - val_factorized_top_k/top_100_categorical_accuracy: 0.0000e+00 - val_loss: 15281.7754 - val_regularization_loss: 0.0000e+00 - val_total_loss: 15281.7754\n",
      "Epoch 3/10\n",
      "8/8 [==============================] - 6s 918ms/step - loss: 14581.6258 - regularization_loss: 0.0000e+00 - total_loss: 14581.6258 - val_factorized_top_k/top_1_categorical_accuracy: 0.0000e+00 - val_factorized_top_k/top_5_categorical_accuracy: 0.0000e+00 - val_factorized_top_k/top_10_categorical_accuracy: 0.0000e+00 - val_factorized_top_k/top_50_categorical_accuracy: 0.0000e+00 - val_factorized_top_k/top_100_categorical_accuracy: 0.0000e+00 - val_loss: 15553.8359 - val_regularization_loss: 0.0000e+00 - val_total_loss: 15553.8359\n",
      "Epoch 4/10\n",
      "8/8 [==============================] - -6s 31ms/step - loss: 13794.8531 - regularization_loss: 0.0000e+00 - total_loss: 13794.8531 - val_factorized_top_k/top_1_categorical_accuracy: 0.0000e+00 - val_factorized_top_k/top_5_categorical_accuracy: 0.0000e+00 - val_factorized_top_k/top_10_categorical_accuracy: 0.0000e+00 - val_factorized_top_k/top_50_categorical_accuracy: 0.0000e+00 - val_factorized_top_k/top_100_categorical_accuracy: 0.0000e+00 - val_loss: 16718.3301 - val_regularization_loss: 0.0000e+00 - val_total_loss: 16718.3301\n",
      "Epoch 5/10\n",
      "8/8 [==============================] - 0s 32ms/step - loss: 13145.9070 - regularization_loss: 0.0000e+00 - total_loss: 13145.9070 - val_factorized_top_k/top_1_categorical_accuracy: 0.0000e+00 - val_factorized_top_k/top_5_categorical_accuracy: 0.0000e+00 - val_factorized_top_k/top_10_categorical_accuracy: 0.0000e+00 - val_factorized_top_k/top_50_categorical_accuracy: 0.0000e+00 - val_factorized_top_k/top_100_categorical_accuracy: 0.0000e+00 - val_loss: 16702.9863 - val_regularization_loss: 0.0000e+00 - val_total_loss: 16702.9863\n",
      "Epoch 6/10\n",
      "8/8 [==============================] - 0s 30ms/step - loss: 12454.8907 - regularization_loss: 0.0000e+00 - total_loss: 12454.8907 - val_factorized_top_k/top_1_categorical_accuracy: 0.0000e+00 - val_factorized_top_k/top_5_categorical_accuracy: 0.0000e+00 - val_factorized_top_k/top_10_categorical_accuracy: 0.0000e+00 - val_factorized_top_k/top_50_categorical_accuracy: 0.0000e+00 - val_factorized_top_k/top_100_categorical_accuracy: 0.0000e+00 - val_loss: 17237.9551 - val_regularization_loss: 0.0000e+00 - val_total_loss: 17237.9551\n",
      "Epoch 7/10\n",
      "8/8 [==============================] - 0s 36ms/step - loss: 11684.6266 - regularization_loss: 0.0000e+00 - total_loss: 11684.6266 - val_factorized_top_k/top_1_categorical_accuracy: 0.0000e+00 - val_factorized_top_k/top_5_categorical_accuracy: 0.0000e+00 - val_factorized_top_k/top_10_categorical_accuracy: 0.0000e+00 - val_factorized_top_k/top_50_categorical_accuracy: 0.0000e+00 - val_factorized_top_k/top_100_categorical_accuracy: 0.0000e+00 - val_loss: 19350.7559 - val_regularization_loss: 0.0000e+00 - val_total_loss: 19350.7559\n",
      "Epoch 8/10\n",
      "8/8 [==============================] - 0s 32ms/step - loss: 10830.6731 - regularization_loss: 0.0000e+00 - total_loss: 10830.6731 - val_factorized_top_k/top_1_categorical_accuracy: 0.0000e+00 - val_factorized_top_k/top_5_categorical_accuracy: 0.0000e+00 - val_factorized_top_k/top_10_categorical_accuracy: 0.0000e+00 - val_factorized_top_k/top_50_categorical_accuracy: 0.0000e+00 - val_factorized_top_k/top_100_categorical_accuracy: 0.0000e+00 - val_loss: 20970.5859 - val_regularization_loss: 0.0000e+00 - val_total_loss: 20970.5859\n",
      "Epoch 9/10\n",
      "8/8 [==============================] - 0s 33ms/step - loss: 10262.8050 - regularization_loss: 0.0000e+00 - total_loss: 10262.8050 - val_factorized_top_k/top_1_categorical_accuracy: 0.0000e+00 - val_factorized_top_k/top_5_categorical_accuracy: 0.0000e+00 - val_factorized_top_k/top_10_categorical_accuracy: 0.0000e+00 - val_factorized_top_k/top_50_categorical_accuracy: 0.0000e+00 - val_factorized_top_k/top_100_categorical_accuracy: 0.0000e+00 - val_loss: 23755.1484 - val_regularization_loss: 0.0000e+00 - val_total_loss: 23755.1484\n",
      "Epoch 10/10\n",
      "8/8 [==============================] - 0s 35ms/step - loss: 9498.0599 - regularization_loss: 0.0000e+00 - total_loss: 9498.0599 - val_factorized_top_k/top_1_categorical_accuracy: 0.0000e+00 - val_factorized_top_k/top_5_categorical_accuracy: 0.0000e+00 - val_factorized_top_k/top_10_categorical_accuracy: 0.0000e+00 - val_factorized_top_k/top_50_categorical_accuracy: 0.0000e+00 - val_factorized_top_k/top_100_categorical_accuracy: 0.0000e+00 - val_loss: 23901.5547 - val_regularization_loss: 0.0000e+00 - val_total_loss: 23901.5547\n"
     ]
    }
   ],
   "source": [
    "trainer = TwoTowerTrainer(dataset=dataset, model=model)\n",
    "history = trainer.train(train_ds, val_ds)"
   ]
  },
  {
   "cell_type": "code",
   "execution_count": 14,
   "id": "952e32f8",
   "metadata": {},
   "outputs": [
    {
     "data": {
      "image/png": "[encoded data removed]",
      "text/plain": [
       "<Figure size 1000x600 with 2 Axes>"
      ]
     },
     "metadata": {},
     "output_type": "display_data"
    }
   ],
   "source": [
    "import matplotlib.pyplot as plt\n",
    "\n",
    "# Create figure with two subplots\n",
    "fig, (ax1, ax2) = plt.subplots(2, 1, figsize=(10, 6))\n",
    "\n",
    "# Training loss subplot\n",
    "ax1.plot(history.history[\"loss\"], label=\"Training Loss\", color=\"blue\")\n",
    "ax1.set_title(\"Training Loss Over Time\")\n",
    "ax1.set_xlabel(\"Epoch\")\n",
    "ax1.set_ylabel(\"Loss\")\n",
    "ax1.legend()\n",
    "ax1.grid(True)\n",
    "\n",
    "# Validation loss subplot\n",
    "ax2.plot(history.history[\"val_loss\"], label=\"Validation Loss\", color=\"red\")\n",
    "ax2.set_title(\"Validation Loss Over Time\")\n",
    "ax2.set_xlabel(\"Epoch\")\n",
    "ax2.set_ylabel(\"Loss\")\n",
    "ax2.legend()\n",
    "ax2.grid(True)\n",
    "\n",
    "plt.tight_layout()\n",
    "\n"
   ]
  },
  {
   "cell_type": "markdown",
   "id": "6ec5309c",
   "metadata": {},
   "source": [
    "# Upload models to Hopsworks model registry "
   ]
  },
  {
   "cell_type": "code",
   "execution_count": 15,
   "id": "346684bc",
   "metadata": {},
   "outputs": [],
   "source": [
    "mr = project.get_model_registry()"
   ]
  },
  {
   "cell_type": "code",
   "execution_count": 19,
   "id": "a2fc97e4",
   "metadata": {},
   "outputs": [
    {
     "name": "stdout",
     "output_type": "stream",
     "text": [
      "2025-08-12 16:57:30,556 INFO: Function `compute_embedding` contains input name(s) table_handle, 3774, resource with unsupported characters which will be renamed to query_tower_sequential_string_lookup_none_lookup_lookuptablefindv2_table_handle, query_tower_sequential_embedding_embedding_lookup_3774, query_tower_sequential_1_dense_1_biasadd_readvariableop_resource in the SavedModel.\n",
      "2025-08-12 16:57:30,883 INFO: Assets written to: query_model/assets\n"
     ]
    },
    {
     "name": "stderr",
     "output_type": "stream",
     "text": [
      "Uploading /home/massyl/projects/personalized-recommender-project/notebooks/query_model/saved_model.pb: 100.000%|██████████| 179296/179296 elapsed<00:02 remaining<00:00\n",
      "Uploading /home/massyl/projects/personalized-recommender-project/notebooks/query_model/fingerprint.pb: 100.000%|██████████| 56/56 elapsed<00:01 remaining<00:00\n",
      "Uploading /home/massyl/projects/personalized-recommender-project/notebooks/query_model/variables/variables.data-00000-of-00001: 100.000%|██████████| 69050/69050 elapsed<00:01 remaining<00:00\n",
      "Uploading /home/massyl/projects/personalized-recommender-project/notebooks/query_model/variables/variables.index: 100.000%|██████████| 561/561 elapsed<00:01 remaining<00:00\n",
      "Uploading /home/massyl/projects/personalized-recommender-project/notebooks/input_example.json: 100.000%|██████████| 166/166 elapsed<00:01 remaining<00:00\n",
      "Uploading /home/massyl/projects/personalized-recommender-project/notebooks/model_schema.json: 100.000%|██████████| 852/852 elapsed<00:01 remaining<00:00\n",
      "Model export complete: 100%|██████████| 6/6 [00:18<00:00,  3.16s/it]                   \n"
     ]
    },
    {
     "name": "stdout",
     "output_type": "stream",
     "text": [
      "Model created, explore it at https://c.app.hopsworks.ai:443/p/90261/models/query_model/1\n",
      "2025-08-12 16:57:53,337 INFO: Assets written to: candidate_model/assets\n"
     ]
    },
    {
     "name": "stderr",
     "output_type": "stream",
     "text": [
      "Uploading /home/massyl/projects/personalized-recommender-project/notebooks/candidate_model/saved_model.pb: 100.000%|██████████| 326323/326323 elapsed<00:02 remaining<00:00\n",
      "Uploading /home/massyl/projects/personalized-recommender-project/notebooks/candidate_model/fingerprint.pb: 100.000%|██████████| 56/56 elapsed<00:01 remaining<00:00\n",
      "Uploading /home/massyl/projects/personalized-recommender-project/notebooks/candidate_model/variables/variables.data-00000-of-00001: 100.000%|██████████| 767146/767146 elapsed<00:03 remaining<00:00\n",
      "Uploading /home/massyl/projects/personalized-recommender-project/notebooks/candidate_model/variables/variables.index: 100.000%|██████████| 423/423 elapsed<00:01 remaining<00:00\n",
      "Uploading /home/massyl/projects/personalized-recommender-project/notebooks/input_example.json: 100.000%|██████████| 97/97 elapsed<00:01 remaining<00:00\n",
      "Uploading /home/massyl/projects/personalized-recommender-project/notebooks/model_schema.json: 100.000%|██████████| 852/852 elapsed<00:01 remaining<00:00\n",
      "Model export complete: 100%|██████████| 6/6 [00:27<00:00,  4.53s/it]                   "
     ]
    },
    {
     "name": "stdout",
     "output_type": "stream",
     "text": [
      "Model created, explore it at https://c.app.hopsworks.ai:443/p/90261/models/candidate_model/1\n"
     ]
    },
    {
     "name": "stderr",
     "output_type": "stream",
     "text": [
      "\n"
     ]
    }
   ],
   "source": [
    "query_model = two_tower_serving.HopsworksQueryModel(\n",
    "    model=model.query_model\n",
    ")\n",
    "query_model.register(\n",
    "    mr=mr,\n",
    "    feature_view=feature_view,\n",
    "    query_df=dataset.properties[\"query_df\"],\n",
    ")\n",
    "\n",
    "item_model = two_tower_serving.HopsworksCandidateModel(\n",
    "    model=model.item_model\n",
    ")\n",
    "item_model.register(\n",
    "    mr=mr,\n",
    "    feature_view=feature_view,\n",
    "    item_df=dataset.properties[\"item_df\"],\n",
    ")"
   ]
  },
  {
   "cell_type": "code",
   "execution_count": 20,
   "id": "b951e5bf",
   "metadata": {},
   "outputs": [
    {
     "name": "stderr",
     "output_type": "stream",
     "text": [
      "\u001b[32m2025-08-12 16:58:22.255\u001b[0m | \u001b[1mINFO    \u001b[0m | \u001b[36m__main__\u001b[0m:\u001b[36m<module>\u001b[0m:\u001b[36m4\u001b[0m - \u001b[1m⌛️ Notebook Execution time: 789.49 seconds ~ 13.16 minutes\u001b[0m\n"
     ]
    }
   ],
   "source": [
    "notebook_end_time = time.time()\n",
    "notebook_execution_time = notebook_end_time - notebook_start_time\n",
    "\n",
    "logger.info(\n",
    "    f\"⌛️ Notebook Execution time: {notebook_execution_time:.2f} seconds ~ {notebook_execution_time / 60:.2f} minutes\"\n",
    ")"
   ]
  }
 ],
 "metadata": {
  "kernelspec": {
   "display_name": "personalized-recommender-project-nc9_7idR-py3.12",
   "language": "python",
   "name": "python3"
  },
  "language_info": {
   "codemirror_mode": {
    "name": "ipython",
    "version": 3
   },
   "file_extension": ".py",
   "mimetype": "text/x-python",
   "name": "python",
   "nbconvert_exporter": "python",
   "pygments_lexer": "ipython3",
   "version": "3.12.3"
  }
 },
 "nbformat": 4,
 "nbformat_minor": 5
}
