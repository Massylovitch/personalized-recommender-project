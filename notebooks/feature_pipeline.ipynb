{
 "cells": [
  {
   "cell_type": "code",
   "execution_count": 2,
   "id": "008077d0",
   "metadata": {},
   "outputs": [],
   "source": [
    "import time\n",
    "\n",
    "notebook_start_time = time.time()"
   ]
  },
  {
   "cell_type": "code",
   "execution_count": 3,
   "id": "4cbb1c24",
   "metadata": {},
   "outputs": [],
   "source": [
    "import sys\n",
    "from pathlib import Path\n",
    "\n",
    "root_dir = str(Path().absolute().parent)\n",
    "sys.path.append(root_dir)"
   ]
  },
  {
   "cell_type": "code",
   "execution_count": 46,
   "id": "381578de",
   "metadata": {},
   "outputs": [
    {
     "name": "stdout",
     "output_type": "stream",
     "text": [
      "The autoreload extension is already loaded. To reload it, use:\n",
      "  %reload_ext autoreload\n"
     ]
    }
   ],
   "source": [
    "%load_ext autoreload\n",
    "%autoreload 2\n",
    "\n",
    "import warnings\n",
    "warnings.filterwarnings(\"ignore\")\n",
    "\n",
    "from pprint import pprint\n",
    "from loguru import logger\n",
    "\n",
    "import polars as pl\n",
    "import torch\n",
    "from sentence_transformers import SentenceTransformer\n",
    "\n",
    "from recsys.hopsworks_integration import feature_store\n",
    "from recsys.config import settings\n",
    "from recsys.raw_data_sources import load_datasets\n",
    "from recsys.features.articles import compute_features_articles, generate_embeddings_for_dataframe\n",
    "from recsys.features.customers import compute_features_customers, DatasetSampler\n",
    "from recsys.features.transactions import compute_features_transactions\n",
    "from recsys.features.interaction import generate_interaction_data\n",
    "from recsys.features.ranking import compute_ranking_dataset"
   ]
  },
  {
   "cell_type": "markdown",
   "id": "edc41f60",
   "metadata": {},
   "source": [
    "## Connect to Hopsworks Feature Store"
   ]
  },
  {
   "cell_type": "code",
   "execution_count": 5,
   "id": "75d2775e",
   "metadata": {},
   "outputs": [
    {
     "name": "stderr",
     "output_type": "stream",
     "text": [
      "\u001b[32m2025-07-28 16:37:54.625\u001b[0m | \u001b[1mINFO    \u001b[0m | \u001b[36mrecsys.hopsworks_integration.feature_store\u001b[0m:\u001b[36mget_feature_store\u001b[0m:\u001b[36m10\u001b[0m - \u001b[1mLoging to Hopsworks using HOPSWORKS_API_KEY env var.\u001b[0m\n"
     ]
    },
    {
     "name": "stdout",
     "output_type": "stream",
     "text": [
      "2025-07-28 16:37:54,627 INFO: Initializing external client\n",
      "2025-07-28 16:37:54,628 INFO: Base URL: https://c.app.hopsworks.ai:443\n"
     ]
    },
    {
     "name": "stderr",
     "output_type": "stream",
     "text": [
      "\n",
      "\n"
     ]
    },
    {
     "name": "stdout",
     "output_type": "stream",
     "text": [
      "2025-07-28 16:37:56,765 INFO: Python Engine initialized.\n",
      "\n",
      "Logged in to project, explore it here https://c.app.hopsworks.ai:443/p/90261\n"
     ]
    }
   ],
   "source": [
    "project, fs = feature_store.get_feature_store()"
   ]
  },
  {
   "cell_type": "markdown",
   "id": "5ad4d6f5",
   "metadata": {},
   "source": [
    "## The H&M dataset"
   ]
  },
  {
   "cell_type": "markdown",
   "id": "2bfc9f49",
   "metadata": {},
   "source": [
    "### Articles data"
   ]
  },
  {
   "cell_type": "code",
   "execution_count": 6,
   "id": "002cefca",
   "metadata": {},
   "outputs": [
    {
     "data": {
      "text/plain": [
       "(105542, 25)"
      ]
     },
     "execution_count": 6,
     "metadata": {},
     "output_type": "execute_result"
    }
   ],
   "source": [
    "articles_df = load_datasets.extract_articles_df()\n",
    "articles_df.shape"
   ]
  },
  {
   "cell_type": "code",
   "execution_count": 7,
   "id": "4c4def1f",
   "metadata": {},
   "outputs": [
    {
     "data": {
      "text/html": [
       "<div><style>\n",
       ".dataframe > thead > tr,\n",
       ".dataframe > tbody > tr {\n",
       "  text-align: right;\n",
       "  white-space: pre-wrap;\n",
       "}\n",
       "</style>\n",
       "<small>shape: (3, 25)</small><table border=\"1\" class=\"dataframe\"><thead><tr><th>article_id</th><th>product_code</th><th>prod_name</th><th>product_type_no</th><th>product_type_name</th><th>product_group_name</th><th>graphical_appearance_no</th><th>graphical_appearance_name</th><th>colour_group_code</th><th>colour_group_name</th><th>perceived_colour_value_id</th><th>perceived_colour_value_name</th><th>perceived_colour_master_id</th><th>perceived_colour_master_name</th><th>department_no</th><th>department_name</th><th>index_code</th><th>index_name</th><th>index_group_no</th><th>index_group_name</th><th>section_no</th><th>section_name</th><th>garment_group_no</th><th>garment_group_name</th><th>detail_desc</th></tr><tr><td>i64</td><td>i64</td><td>str</td><td>i64</td><td>str</td><td>str</td><td>i64</td><td>str</td><td>i64</td><td>str</td><td>i64</td><td>str</td><td>i64</td><td>str</td><td>i64</td><td>str</td><td>str</td><td>str</td><td>i64</td><td>str</td><td>i64</td><td>str</td><td>i64</td><td>str</td><td>str</td></tr></thead><tbody><tr><td>108775015</td><td>108775</td><td>&quot;Strap top&quot;</td><td>253</td><td>&quot;Vest top&quot;</td><td>&quot;Garment Upper body&quot;</td><td>1010016</td><td>&quot;Solid&quot;</td><td>9</td><td>&quot;Black&quot;</td><td>4</td><td>&quot;Dark&quot;</td><td>5</td><td>&quot;Black&quot;</td><td>1676</td><td>&quot;Jersey Basic&quot;</td><td>&quot;A&quot;</td><td>&quot;Ladieswear&quot;</td><td>1</td><td>&quot;Ladieswear&quot;</td><td>16</td><td>&quot;Womens Everyday Basics&quot;</td><td>1002</td><td>&quot;Jersey Basic&quot;</td><td>&quot;Jersey top with narrow shoulde…</td></tr><tr><td>108775044</td><td>108775</td><td>&quot;Strap top&quot;</td><td>253</td><td>&quot;Vest top&quot;</td><td>&quot;Garment Upper body&quot;</td><td>1010016</td><td>&quot;Solid&quot;</td><td>10</td><td>&quot;White&quot;</td><td>3</td><td>&quot;Light&quot;</td><td>9</td><td>&quot;White&quot;</td><td>1676</td><td>&quot;Jersey Basic&quot;</td><td>&quot;A&quot;</td><td>&quot;Ladieswear&quot;</td><td>1</td><td>&quot;Ladieswear&quot;</td><td>16</td><td>&quot;Womens Everyday Basics&quot;</td><td>1002</td><td>&quot;Jersey Basic&quot;</td><td>&quot;Jersey top with narrow shoulde…</td></tr><tr><td>108775051</td><td>108775</td><td>&quot;Strap top (1)&quot;</td><td>253</td><td>&quot;Vest top&quot;</td><td>&quot;Garment Upper body&quot;</td><td>1010017</td><td>&quot;Stripe&quot;</td><td>11</td><td>&quot;Off White&quot;</td><td>1</td><td>&quot;Dusty Light&quot;</td><td>9</td><td>&quot;White&quot;</td><td>1676</td><td>&quot;Jersey Basic&quot;</td><td>&quot;A&quot;</td><td>&quot;Ladieswear&quot;</td><td>1</td><td>&quot;Ladieswear&quot;</td><td>16</td><td>&quot;Womens Everyday Basics&quot;</td><td>1002</td><td>&quot;Jersey Basic&quot;</td><td>&quot;Jersey top with narrow shoulde…</td></tr></tbody></table></div>"
      ],
      "text/plain": [
       "shape: (3, 25)\n",
       "┌───────────┬───────────┬───────────┬───────────┬───┬───────────┬───────────┬───────────┬──────────┐\n",
       "│ article_i ┆ product_c ┆ prod_name ┆ product_t ┆ … ┆ section_n ┆ garment_g ┆ garment_g ┆ detail_d │\n",
       "│ d         ┆ ode       ┆ ---       ┆ ype_no    ┆   ┆ ame       ┆ roup_no   ┆ roup_name ┆ esc      │\n",
       "│ ---       ┆ ---       ┆ str       ┆ ---       ┆   ┆ ---       ┆ ---       ┆ ---       ┆ ---      │\n",
       "│ i64       ┆ i64       ┆           ┆ i64       ┆   ┆ str       ┆ i64       ┆ str       ┆ str      │\n",
       "╞═══════════╪═══════════╪═══════════╪═══════════╪═══╪═══════════╪═══════════╪═══════════╪══════════╡\n",
       "│ 108775015 ┆ 108775    ┆ Strap top ┆ 253       ┆ … ┆ Womens    ┆ 1002      ┆ Jersey    ┆ Jersey   │\n",
       "│           ┆           ┆           ┆           ┆   ┆ Everyday  ┆           ┆ Basic     ┆ top with │\n",
       "│           ┆           ┆           ┆           ┆   ┆ Basics    ┆           ┆           ┆ narrow   │\n",
       "│           ┆           ┆           ┆           ┆   ┆           ┆           ┆           ┆ shoulde… │\n",
       "│ 108775044 ┆ 108775    ┆ Strap top ┆ 253       ┆ … ┆ Womens    ┆ 1002      ┆ Jersey    ┆ Jersey   │\n",
       "│           ┆           ┆           ┆           ┆   ┆ Everyday  ┆           ┆ Basic     ┆ top with │\n",
       "│           ┆           ┆           ┆           ┆   ┆ Basics    ┆           ┆           ┆ narrow   │\n",
       "│           ┆           ┆           ┆           ┆   ┆           ┆           ┆           ┆ shoulde… │\n",
       "│ 108775051 ┆ 108775    ┆ Strap top ┆ 253       ┆ … ┆ Womens    ┆ 1002      ┆ Jersey    ┆ Jersey   │\n",
       "│           ┆           ┆ (1)       ┆           ┆   ┆ Everyday  ┆           ┆ Basic     ┆ top with │\n",
       "│           ┆           ┆           ┆           ┆   ┆ Basics    ┆           ┆           ┆ narrow   │\n",
       "│           ┆           ┆           ┆           ┆   ┆           ┆           ┆           ┆ shoulde… │\n",
       "└───────────┴───────────┴───────────┴───────────┴───┴───────────┴───────────┴───────────┴──────────┘"
      ]
     },
     "execution_count": 7,
     "metadata": {},
     "output_type": "execute_result"
    }
   ],
   "source": [
    "articles_df.head(3)"
   ]
  },
  {
   "cell_type": "code",
   "execution_count": 8,
   "id": "ed14e42c",
   "metadata": {},
   "outputs": [
    {
     "data": {
      "text/html": [
       "<div><style>\n",
       ".dataframe > thead > tr,\n",
       ".dataframe > tbody > tr {\n",
       "  text-align: right;\n",
       "  white-space: pre-wrap;\n",
       "}\n",
       "</style>\n",
       "<small>shape: (1, 25)</small><table border=\"1\" class=\"dataframe\"><thead><tr><th>article_id</th><th>product_code</th><th>prod_name</th><th>product_type_no</th><th>product_type_name</th><th>product_group_name</th><th>graphical_appearance_no</th><th>graphical_appearance_name</th><th>colour_group_code</th><th>colour_group_name</th><th>perceived_colour_value_id</th><th>perceived_colour_value_name</th><th>perceived_colour_master_id</th><th>perceived_colour_master_name</th><th>department_no</th><th>department_name</th><th>index_code</th><th>index_name</th><th>index_group_no</th><th>index_group_name</th><th>section_no</th><th>section_name</th><th>garment_group_no</th><th>garment_group_name</th><th>detail_desc</th></tr><tr><td>u32</td><td>u32</td><td>u32</td><td>u32</td><td>u32</td><td>u32</td><td>u32</td><td>u32</td><td>u32</td><td>u32</td><td>u32</td><td>u32</td><td>u32</td><td>u32</td><td>u32</td><td>u32</td><td>u32</td><td>u32</td><td>u32</td><td>u32</td><td>u32</td><td>u32</td><td>u32</td><td>u32</td><td>u32</td></tr></thead><tbody><tr><td>0</td><td>0</td><td>0</td><td>0</td><td>0</td><td>0</td><td>0</td><td>0</td><td>0</td><td>0</td><td>0</td><td>0</td><td>0</td><td>0</td><td>0</td><td>0</td><td>0</td><td>0</td><td>0</td><td>0</td><td>0</td><td>0</td><td>0</td><td>0</td><td>416</td></tr></tbody></table></div>"
      ],
      "text/plain": [
       "shape: (1, 25)\n",
       "┌───────────┬───────────┬───────────┬───────────┬───┬───────────┬───────────┬───────────┬──────────┐\n",
       "│ article_i ┆ product_c ┆ prod_name ┆ product_t ┆ … ┆ section_n ┆ garment_g ┆ garment_g ┆ detail_d │\n",
       "│ d         ┆ ode       ┆ ---       ┆ ype_no    ┆   ┆ ame       ┆ roup_no   ┆ roup_name ┆ esc      │\n",
       "│ ---       ┆ ---       ┆ u32       ┆ ---       ┆   ┆ ---       ┆ ---       ┆ ---       ┆ ---      │\n",
       "│ u32       ┆ u32       ┆           ┆ u32       ┆   ┆ u32       ┆ u32       ┆ u32       ┆ u32      │\n",
       "╞═══════════╪═══════════╪═══════════╪═══════════╪═══╪═══════════╪═══════════╪═══════════╪══════════╡\n",
       "│ 0         ┆ 0         ┆ 0         ┆ 0         ┆ … ┆ 0         ┆ 0         ┆ 0         ┆ 416      │\n",
       "└───────────┴───────────┴───────────┴───────────┴───┴───────────┴───────────┴───────────┴──────────┘"
      ]
     },
     "execution_count": 8,
     "metadata": {},
     "output_type": "execute_result"
    }
   ],
   "source": [
    "articles_df.null_count()"
   ]
  },
  {
   "cell_type": "markdown",
   "id": "42b663b9",
   "metadata": {},
   "source": [
    "#### feature engineering"
   ]
  },
  {
   "cell_type": "code",
   "execution_count": 9,
   "id": "69639ea5",
   "metadata": {},
   "outputs": [
    {
     "data": {
      "text/plain": [
       "(105542, 27)"
      ]
     },
     "execution_count": 9,
     "metadata": {},
     "output_type": "execute_result"
    }
   ],
   "source": [
    "articles_df = compute_features_articles(articles_df)\n",
    "articles_df.shape"
   ]
  },
  {
   "cell_type": "code",
   "execution_count": 10,
   "id": "98883f50",
   "metadata": {},
   "outputs": [
    {
     "data": {
      "text/html": [
       "<div><style>\n",
       ".dataframe > thead > tr,\n",
       ".dataframe > tbody > tr {\n",
       "  text-align: right;\n",
       "  white-space: pre-wrap;\n",
       "}\n",
       "</style>\n",
       "<small>shape: (3, 27)</small><table border=\"1\" class=\"dataframe\"><thead><tr><th>article_id</th><th>product_code</th><th>prod_name</th><th>product_type_no</th><th>product_type_name</th><th>product_group_name</th><th>graphical_appearance_no</th><th>graphical_appearance_name</th><th>colour_group_code</th><th>colour_group_name</th><th>perceived_colour_value_id</th><th>perceived_colour_value_name</th><th>perceived_colour_master_id</th><th>perceived_colour_master_name</th><th>department_no</th><th>department_name</th><th>index_code</th><th>index_name</th><th>index_group_no</th><th>index_group_name</th><th>section_no</th><th>section_name</th><th>garment_group_no</th><th>garment_group_name</th><th>prod_name_length</th><th>article_description</th><th>image_url</th></tr><tr><td>str</td><td>i64</td><td>str</td><td>i64</td><td>str</td><td>str</td><td>i64</td><td>str</td><td>i64</td><td>str</td><td>i64</td><td>str</td><td>i64</td><td>str</td><td>i64</td><td>str</td><td>str</td><td>str</td><td>i64</td><td>str</td><td>i64</td><td>str</td><td>i64</td><td>str</td><td>u32</td><td>str</td><td>str</td></tr></thead><tbody><tr><td>&quot;108775015&quot;</td><td>108775</td><td>&quot;Strap top&quot;</td><td>253</td><td>&quot;Vest top&quot;</td><td>&quot;Garment Upper body&quot;</td><td>1010016</td><td>&quot;Solid&quot;</td><td>9</td><td>&quot;Black&quot;</td><td>4</td><td>&quot;Dark&quot;</td><td>5</td><td>&quot;Black&quot;</td><td>1676</td><td>&quot;Jersey Basic&quot;</td><td>&quot;A&quot;</td><td>&quot;Ladieswear&quot;</td><td>1</td><td>&quot;Ladieswear&quot;</td><td>16</td><td>&quot;Womens Everyday Basics&quot;</td><td>1002</td><td>&quot;Jersey Basic&quot;</td><td>9</td><td>&quot;Strap top - Vest top in Garmen…</td><td>&quot;https://repo.hops.works/dev/jd…</td></tr><tr><td>&quot;108775044&quot;</td><td>108775</td><td>&quot;Strap top&quot;</td><td>253</td><td>&quot;Vest top&quot;</td><td>&quot;Garment Upper body&quot;</td><td>1010016</td><td>&quot;Solid&quot;</td><td>10</td><td>&quot;White&quot;</td><td>3</td><td>&quot;Light&quot;</td><td>9</td><td>&quot;White&quot;</td><td>1676</td><td>&quot;Jersey Basic&quot;</td><td>&quot;A&quot;</td><td>&quot;Ladieswear&quot;</td><td>1</td><td>&quot;Ladieswear&quot;</td><td>16</td><td>&quot;Womens Everyday Basics&quot;</td><td>1002</td><td>&quot;Jersey Basic&quot;</td><td>9</td><td>&quot;Strap top - Vest top in Garmen…</td><td>&quot;https://repo.hops.works/dev/jd…</td></tr><tr><td>&quot;108775051&quot;</td><td>108775</td><td>&quot;Strap top (1)&quot;</td><td>253</td><td>&quot;Vest top&quot;</td><td>&quot;Garment Upper body&quot;</td><td>1010017</td><td>&quot;Stripe&quot;</td><td>11</td><td>&quot;Off White&quot;</td><td>1</td><td>&quot;Dusty Light&quot;</td><td>9</td><td>&quot;White&quot;</td><td>1676</td><td>&quot;Jersey Basic&quot;</td><td>&quot;A&quot;</td><td>&quot;Ladieswear&quot;</td><td>1</td><td>&quot;Ladieswear&quot;</td><td>16</td><td>&quot;Womens Everyday Basics&quot;</td><td>1002</td><td>&quot;Jersey Basic&quot;</td><td>13</td><td>&quot;Strap top (1) - Vest top in Ga…</td><td>&quot;https://repo.hops.works/dev/jd…</td></tr></tbody></table></div>"
      ],
      "text/plain": [
       "shape: (3, 27)\n",
       "┌───────────┬───────────┬───────────┬───────────┬───┬───────────┬───────────┬───────────┬──────────┐\n",
       "│ article_i ┆ product_c ┆ prod_name ┆ product_t ┆ … ┆ garment_g ┆ prod_name ┆ article_d ┆ image_ur │\n",
       "│ d         ┆ ode       ┆ ---       ┆ ype_no    ┆   ┆ roup_name ┆ _length   ┆ escriptio ┆ l        │\n",
       "│ ---       ┆ ---       ┆ str       ┆ ---       ┆   ┆ ---       ┆ ---       ┆ n         ┆ ---      │\n",
       "│ str       ┆ i64       ┆           ┆ i64       ┆   ┆ str       ┆ u32       ┆ ---       ┆ str      │\n",
       "│           ┆           ┆           ┆           ┆   ┆           ┆           ┆ str       ┆          │\n",
       "╞═══════════╪═══════════╪═══════════╪═══════════╪═══╪═══════════╪═══════════╪═══════════╪══════════╡\n",
       "│ 108775015 ┆ 108775    ┆ Strap top ┆ 253       ┆ … ┆ Jersey    ┆ 9         ┆ Strap top ┆ https:// │\n",
       "│           ┆           ┆           ┆           ┆   ┆ Basic     ┆           ┆ - Vest    ┆ repo.hop │\n",
       "│           ┆           ┆           ┆           ┆   ┆           ┆           ┆ top in    ┆ s.works/ │\n",
       "│           ┆           ┆           ┆           ┆   ┆           ┆           ┆ Garmen…   ┆ dev/jd…  │\n",
       "│ 108775044 ┆ 108775    ┆ Strap top ┆ 253       ┆ … ┆ Jersey    ┆ 9         ┆ Strap top ┆ https:// │\n",
       "│           ┆           ┆           ┆           ┆   ┆ Basic     ┆           ┆ - Vest    ┆ repo.hop │\n",
       "│           ┆           ┆           ┆           ┆   ┆           ┆           ┆ top in    ┆ s.works/ │\n",
       "│           ┆           ┆           ┆           ┆   ┆           ┆           ┆ Garmen…   ┆ dev/jd…  │\n",
       "│ 108775051 ┆ 108775    ┆ Strap top ┆ 253       ┆ … ┆ Jersey    ┆ 13        ┆ Strap top ┆ https:// │\n",
       "│           ┆           ┆ (1)       ┆           ┆   ┆ Basic     ┆           ┆ (1) -     ┆ repo.hop │\n",
       "│           ┆           ┆           ┆           ┆   ┆           ┆           ┆ Vest top  ┆ s.works/ │\n",
       "│           ┆           ┆           ┆           ┆   ┆           ┆           ┆ in Ga…    ┆ dev/jd…  │\n",
       "└───────────┴───────────┴───────────┴───────────┴───┴───────────┴───────────┴───────────┴──────────┘"
      ]
     },
     "execution_count": 10,
     "metadata": {},
     "output_type": "execute_result"
    }
   ],
   "source": [
    "articles_df.head(3)"
   ]
  },
  {
   "cell_type": "markdown",
   "id": "400414e5",
   "metadata": {},
   "source": [
    "##### Create embeddings from the articles description"
   ]
  },
  {
   "cell_type": "code",
   "execution_count": 11,
   "id": "18c7897e",
   "metadata": {},
   "outputs": [
    {
     "name": "stderr",
     "output_type": "stream",
     "text": [
      "\u001b[32m2025-07-28 16:38:00.301\u001b[0m | \u001b[1mINFO    \u001b[0m | \u001b[36m__main__\u001b[0m:\u001b[36m<module>\u001b[0m:\u001b[36m2\u001b[0m - \u001b[1mItem 1:\n",
      "Strap top - Vest top in Garment Upper body\n",
      "Appearance: Solid\n",
      "Color: Dark Black (Black)\n",
      "Category: Ladieswear - Womens Everyday Basics - Jersey Basic\n",
      "Details: Jersey top with narrow shoulder straps.\u001b[0m\n",
      "\u001b[32m2025-07-28 16:38:00.301\u001b[0m | \u001b[1mINFO    \u001b[0m | \u001b[36m__main__\u001b[0m:\u001b[36m<module>\u001b[0m:\u001b[36m2\u001b[0m - \u001b[1mItem 2:\n",
      "Strap top - Vest top in Garment Upper body\n",
      "Appearance: Solid\n",
      "Color: Light White (White)\n",
      "Category: Ladieswear - Womens Everyday Basics - Jersey Basic\n",
      "Details: Jersey top with narrow shoulder straps.\u001b[0m\n",
      "\u001b[32m2025-07-28 16:38:00.302\u001b[0m | \u001b[1mINFO    \u001b[0m | \u001b[36m__main__\u001b[0m:\u001b[36m<module>\u001b[0m:\u001b[36m2\u001b[0m - \u001b[1mItem 3:\n",
      "Strap top (1) - Vest top in Garment Upper body\n",
      "Appearance: Stripe\n",
      "Color: Dusty Light White (Off White)\n",
      "Category: Ladieswear - Womens Everyday Basics - Jersey Basic\n",
      "Details: Jersey top with narrow shoulder straps.\u001b[0m\n"
     ]
    }
   ],
   "source": [
    "for i, desc in enumerate(articles_df[\"article_description\"].head(n=3)):\n",
    "    logger.info(f\"Item {i+1}:\\n{desc}\")"
   ]
  },
  {
   "cell_type": "code",
   "execution_count": 12,
   "id": "8454e9a0",
   "metadata": {},
   "outputs": [
    {
     "name": "stderr",
     "output_type": "stream",
     "text": [
      "\u001b[32m2025-07-28 16:38:00.504\u001b[0m | \u001b[1mINFO    \u001b[0m | \u001b[36m__main__\u001b[0m:\u001b[36m<module>\u001b[0m:\u001b[36m9\u001b[0m - \u001b[1mLoading 'all-MiniLM-L6-v2' embedding model to device='cuda'\u001b[0m\n"
     ]
    }
   ],
   "source": [
    "device = (\n",
    "    \"cuda\"\n",
    "    if torch.cuda.is_available()\n",
    "    else \"mps\"\n",
    "    if torch.backends.mps.is_available()\n",
    "    else \"cpu\"\n",
    ")\n",
    "\n",
    "logger.info(\n",
    "    f\"Loading '{settings.FEATURES_EMBEDDING_MODEL_ID}' embedding model to {device=}\"\n",
    ")"
   ]
  },
  {
   "cell_type": "code",
   "execution_count": 13,
   "id": "efafa0dc",
   "metadata": {},
   "outputs": [
    {
     "name": "stdout",
     "output_type": "stream",
     "text": [
      "2025-07-28 16:38:00,563 INFO: Load pretrained SentenceTransformer: all-MiniLM-L6-v2\n"
     ]
    }
   ],
   "source": [
    "# Load the embedding model from SentenceTransformer's model registry.\n",
    "model = SentenceTransformer(settings.FEATURES_EMBEDDING_MODEL_ID, device=device)"
   ]
  },
  {
   "cell_type": "code",
   "execution_count": 14,
   "id": "9461ec69",
   "metadata": {},
   "outputs": [
    {
     "name": "stderr",
     "output_type": "stream",
     "text": [
      "Generating embeddings: 100%|██████████| 105542/105542 [01:23<00:00, 1265.98it/s]\n"
     ]
    }
   ],
   "source": [
    "articles_df = generate_embeddings_for_dataframe(\n",
    "    articles_df, \"article_description\", model, batch_size=128\n",
    ")"
   ]
  },
  {
   "cell_type": "code",
   "execution_count": 15,
   "id": "db990b0f",
   "metadata": {},
   "outputs": [
    {
     "data": {
      "text/html": [
       "<div><style>\n",
       ".dataframe > thead > tr,\n",
       ".dataframe > tbody > tr {\n",
       "  text-align: right;\n",
       "  white-space: pre-wrap;\n",
       "}\n",
       "</style>\n",
       "<small>shape: (3, 2)</small><table border=\"1\" class=\"dataframe\"><thead><tr><th>article_description</th><th>embeddings</th></tr><tr><td>str</td><td>list[f64]</td></tr></thead><tbody><tr><td>&quot;Strap top - Vest top in Garmen…</td><td>[-0.026782, 0.082344, … 0.022782]</td></tr><tr><td>&quot;Strap top - Vest top in Garmen…</td><td>[-0.010396, 0.089874, … 0.022564]</td></tr><tr><td>&quot;Strap top (1) - Vest top in Ga…</td><td>[-0.032753, 0.091124, … 0.022804]</td></tr></tbody></table></div>"
      ],
      "text/plain": [
       "shape: (3, 2)\n",
       "┌─────────────────────────────────┬─────────────────────────────────┐\n",
       "│ article_description             ┆ embeddings                      │\n",
       "│ ---                             ┆ ---                             │\n",
       "│ str                             ┆ list[f64]                       │\n",
       "╞═════════════════════════════════╪═════════════════════════════════╡\n",
       "│ Strap top - Vest top in Garmen… ┆ [-0.026782, 0.082344, … 0.0227… │\n",
       "│ Strap top - Vest top in Garmen… ┆ [-0.010396, 0.089874, … 0.0225… │\n",
       "│ Strap top (1) - Vest top in Ga… ┆ [-0.032753, 0.091124, … 0.0228… │\n",
       "└─────────────────────────────────┴─────────────────────────────────┘"
      ]
     },
     "execution_count": 15,
     "metadata": {},
     "output_type": "execute_result"
    }
   ],
   "source": [
    "articles_df[[\"article_description\", \"embeddings\"]].head(3)"
   ]
  },
  {
   "cell_type": "code",
   "execution_count": 16,
   "id": "9343641b",
   "metadata": {},
   "outputs": [
    {
     "data": {
      "text/html": [
       "<div style=\"display: grid; grid-template-columns: repeat(6, 1fr); gap: 10px; max-width: 900px;\"><img src=\"https://repo.hops.works/dev/jdowling/h-and-m/images/094/0949551001.jpg\" style=\"width: 100%; height: auto;\"><img src=\"https://repo.hops.works/dev/jdowling/h-and-m/images/094/0949551002.jpg\" style=\"width: 100%; height: auto;\"><img src=\"https://repo.hops.works/dev/jdowling/h-and-m/images/094/0949594001.jpg\" style=\"width: 100%; height: auto;\"><img src=\"https://repo.hops.works/dev/jdowling/h-and-m/images/095/0950449002.jpg\" style=\"width: 100%; height: auto;\"><img src=\"https://repo.hops.works/dev/jdowling/h-and-m/images/095/0952267001.jpg\" style=\"width: 100%; height: auto;\"><img src=\"https://repo.hops.works/dev/jdowling/h-and-m/images/095/0952937003.jpg\" style=\"width: 100%; height: auto;\"><img src=\"https://repo.hops.works/dev/jdowling/h-and-m/images/095/0952938001.jpg\" style=\"width: 100%; height: auto;\"><img src=\"https://repo.hops.works/dev/jdowling/h-and-m/images/095/0953450001.jpg\" style=\"width: 100%; height: auto;\"><img src=\"https://repo.hops.works/dev/jdowling/h-and-m/images/095/0953763001.jpg\" style=\"width: 100%; height: auto;\"><img src=\"https://repo.hops.works/dev/jdowling/h-and-m/images/095/0956217002.jpg\" style=\"width: 100%; height: auto;\"><img src=\"https://repo.hops.works/dev/jdowling/h-and-m/images/095/0957375001.jpg\" style=\"width: 100%; height: auto;\"><img src=\"https://repo.hops.works/dev/jdowling/h-and-m/images/095/0959461001.jpg\" style=\"width: 100%; height: auto;\"></div>"
      ],
      "text/plain": [
       "<IPython.core.display.HTML object>"
      ]
     },
     "metadata": {},
     "output_type": "display_data"
    }
   ],
   "source": [
    "from IPython.display import HTML, display\n",
    "\n",
    "image_urls = articles_df[\"image_url\"].tail(12).to_list()\n",
    "grid_html = '<div style=\"display: grid; grid-template-columns: repeat(6, 1fr); gap: 10px; max-width: 900px;\">'\n",
    "\n",
    "for url in image_urls:\n",
    "    grid_html += f'<img src=\"{url}\" style=\"width: 100%; height: auto;\">'\n",
    "\n",
    "grid_html += \"</div>\"\n",
    "\n",
    "display(HTML(grid_html))"
   ]
  },
  {
   "cell_type": "markdown",
   "id": "ec619189",
   "metadata": {},
   "source": [
    "### Customers Data"
   ]
  },
  {
   "cell_type": "code",
   "execution_count": 17,
   "id": "68b39189",
   "metadata": {},
   "outputs": [
    {
     "data": {
      "text/plain": [
       "(1371980, 7)"
      ]
     },
     "execution_count": 17,
     "metadata": {},
     "output_type": "execute_result"
    }
   ],
   "source": [
    "customers_df = load_datasets.extract_customers_df()\n",
    "customers_df.shape"
   ]
  },
  {
   "cell_type": "code",
   "execution_count": 18,
   "id": "654d1add",
   "metadata": {},
   "outputs": [
    {
     "data": {
      "text/html": [
       "<div><style>\n",
       ".dataframe > thead > tr,\n",
       ".dataframe > tbody > tr {\n",
       "  text-align: right;\n",
       "  white-space: pre-wrap;\n",
       "}\n",
       "</style>\n",
       "<small>shape: (3, 7)</small><table border=\"1\" class=\"dataframe\"><thead><tr><th>customer_id</th><th>FN</th><th>Active</th><th>club_member_status</th><th>fashion_news_frequency</th><th>age</th><th>postal_code</th></tr><tr><td>str</td><td>f64</td><td>f64</td><td>str</td><td>str</td><td>i64</td><td>str</td></tr></thead><tbody><tr><td>&quot;00000dbacae5abe5e23885899a1fa4…</td><td>null</td><td>null</td><td>&quot;ACTIVE&quot;</td><td>&quot;NONE&quot;</td><td>49</td><td>&quot;52043ee2162cf5aa7ee79974281641…</td></tr><tr><td>&quot;0000423b00ade91418cceaf3b26c6a…</td><td>null</td><td>null</td><td>&quot;ACTIVE&quot;</td><td>&quot;NONE&quot;</td><td>25</td><td>&quot;2973abc54daa8a5f8ccfe9362140c6…</td></tr><tr><td>&quot;000058a12d5b43e67d225668fa1f8d…</td><td>null</td><td>null</td><td>&quot;ACTIVE&quot;</td><td>&quot;NONE&quot;</td><td>24</td><td>&quot;64f17e6a330a85798e4998f62d0930…</td></tr></tbody></table></div>"
      ],
      "text/plain": [
       "shape: (3, 7)\n",
       "┌───────────────────┬──────┬────────┬──────────────────┬──────────────────┬─────┬──────────────────┐\n",
       "│ customer_id       ┆ FN   ┆ Active ┆ club_member_stat ┆ fashion_news_fre ┆ age ┆ postal_code      │\n",
       "│ ---               ┆ ---  ┆ ---    ┆ us               ┆ quency           ┆ --- ┆ ---              │\n",
       "│ str               ┆ f64  ┆ f64    ┆ ---              ┆ ---              ┆ i64 ┆ str              │\n",
       "│                   ┆      ┆        ┆ str              ┆ str              ┆     ┆                  │\n",
       "╞═══════════════════╪══════╪════════╪══════════════════╪══════════════════╪═════╪══════════════════╡\n",
       "│ 00000dbacae5abe5e ┆ null ┆ null   ┆ ACTIVE           ┆ NONE             ┆ 49  ┆ 52043ee2162cf5aa │\n",
       "│ 23885899a1fa4…    ┆      ┆        ┆                  ┆                  ┆     ┆ 7ee79974281641…  │\n",
       "│ 0000423b00ade9141 ┆ null ┆ null   ┆ ACTIVE           ┆ NONE             ┆ 25  ┆ 2973abc54daa8a5f │\n",
       "│ 8cceaf3b26c6a…    ┆      ┆        ┆                  ┆                  ┆     ┆ 8ccfe9362140c6…  │\n",
       "│ 000058a12d5b43e67 ┆ null ┆ null   ┆ ACTIVE           ┆ NONE             ┆ 24  ┆ 64f17e6a330a8579 │\n",
       "│ d225668fa1f8d…    ┆      ┆        ┆                  ┆                  ┆     ┆ 8e4998f62d0930…  │\n",
       "└───────────────────┴──────┴────────┴──────────────────┴──────────────────┴─────┴──────────────────┘"
      ]
     },
     "execution_count": 18,
     "metadata": {},
     "output_type": "execute_result"
    }
   ],
   "source": [
    "customers_df.head(3)"
   ]
  },
  {
   "cell_type": "code",
   "execution_count": 19,
   "id": "b2d98a65",
   "metadata": {},
   "outputs": [
    {
     "data": {
      "text/html": [
       "<div><style>\n",
       ".dataframe > thead > tr,\n",
       ".dataframe > tbody > tr {\n",
       "  text-align: right;\n",
       "  white-space: pre-wrap;\n",
       "}\n",
       "</style>\n",
       "<small>shape: (1, 7)</small><table border=\"1\" class=\"dataframe\"><thead><tr><th>customer_id</th><th>FN</th><th>Active</th><th>club_member_status</th><th>fashion_news_frequency</th><th>age</th><th>postal_code</th></tr><tr><td>u32</td><td>u32</td><td>u32</td><td>u32</td><td>u32</td><td>u32</td><td>u32</td></tr></thead><tbody><tr><td>0</td><td>895050</td><td>907576</td><td>6062</td><td>16009</td><td>15861</td><td>0</td></tr></tbody></table></div>"
      ],
      "text/plain": [
       "shape: (1, 7)\n",
       "┌─────────────┬────────┬────────┬────────────────────┬───────────────────────┬───────┬─────────────┐\n",
       "│ customer_id ┆ FN     ┆ Active ┆ club_member_status ┆ fashion_news_frequenc ┆ age   ┆ postal_code │\n",
       "│ ---         ┆ ---    ┆ ---    ┆ ---                ┆ y                     ┆ ---   ┆ ---         │\n",
       "│ u32         ┆ u32    ┆ u32    ┆ u32                ┆ ---                   ┆ u32   ┆ u32         │\n",
       "│             ┆        ┆        ┆                    ┆ u32                   ┆       ┆             │\n",
       "╞═════════════╪════════╪════════╪════════════════════╪═══════════════════════╪═══════╪═════════════╡\n",
       "│ 0           ┆ 895050 ┆ 907576 ┆ 6062               ┆ 16009                 ┆ 15861 ┆ 0           │\n",
       "└─────────────┴────────┴────────┴────────────────────┴───────────────────────┴───────┴─────────────┘"
      ]
     },
     "execution_count": 19,
     "metadata": {},
     "output_type": "execute_result"
    }
   ],
   "source": [
    "customers_df.null_count()"
   ]
  },
  {
   "cell_type": "markdown",
   "id": "cc28defe",
   "metadata": {},
   "source": [
    "##### feature engineering"
   ]
  },
  {
   "cell_type": "code",
   "execution_count": 20,
   "id": "083a5005",
   "metadata": {},
   "outputs": [
    {
     "data": {
      "text/plain": [
       "(1356119, 5)"
      ]
     },
     "execution_count": 20,
     "metadata": {},
     "output_type": "execute_result"
    }
   ],
   "source": [
    "customers_df = compute_features_customers(customers_df, drop_null_age=True)\n",
    "customers_df.shape"
   ]
  },
  {
   "cell_type": "code",
   "execution_count": 21,
   "id": "b0b78897",
   "metadata": {},
   "outputs": [
    {
     "data": {
      "text/html": [
       "<div><style>\n",
       ".dataframe > thead > tr,\n",
       ".dataframe > tbody > tr {\n",
       "  text-align: right;\n",
       "  white-space: pre-wrap;\n",
       "}\n",
       "</style>\n",
       "<small>shape: (3, 5)</small><table border=\"1\" class=\"dataframe\"><thead><tr><th>customer_id</th><th>club_member_status</th><th>age</th><th>postal_code</th><th>age_group</th></tr><tr><td>str</td><td>str</td><td>f64</td><td>str</td><td>str</td></tr></thead><tbody><tr><td>&quot;00000dbacae5abe5e23885899a1fa4…</td><td>&quot;ACTIVE&quot;</td><td>49.0</td><td>&quot;52043ee2162cf5aa7ee79974281641…</td><td>&quot;46-55&quot;</td></tr><tr><td>&quot;0000423b00ade91418cceaf3b26c6a…</td><td>&quot;ACTIVE&quot;</td><td>25.0</td><td>&quot;2973abc54daa8a5f8ccfe9362140c6…</td><td>&quot;19-25&quot;</td></tr><tr><td>&quot;000058a12d5b43e67d225668fa1f8d…</td><td>&quot;ACTIVE&quot;</td><td>24.0</td><td>&quot;64f17e6a330a85798e4998f62d0930…</td><td>&quot;19-25&quot;</td></tr></tbody></table></div>"
      ],
      "text/plain": [
       "shape: (3, 5)\n",
       "┌─────────────────────────────┬────────────────────┬──────┬────────────────────────────┬───────────┐\n",
       "│ customer_id                 ┆ club_member_status ┆ age  ┆ postal_code                ┆ age_group │\n",
       "│ ---                         ┆ ---                ┆ ---  ┆ ---                        ┆ ---       │\n",
       "│ str                         ┆ str                ┆ f64  ┆ str                        ┆ str       │\n",
       "╞═════════════════════════════╪════════════════════╪══════╪════════════════════════════╪═══════════╡\n",
       "│ 00000dbacae5abe5e23885899a1 ┆ ACTIVE             ┆ 49.0 ┆ 52043ee2162cf5aa7ee7997428 ┆ 46-55     │\n",
       "│ fa4…                        ┆                    ┆      ┆ 1641…                      ┆           │\n",
       "│ 0000423b00ade91418cceaf3b26 ┆ ACTIVE             ┆ 25.0 ┆ 2973abc54daa8a5f8ccfe93621 ┆ 19-25     │\n",
       "│ c6a…                        ┆                    ┆      ┆ 40c6…                      ┆           │\n",
       "│ 000058a12d5b43e67d225668fa1 ┆ ACTIVE             ┆ 24.0 ┆ 64f17e6a330a85798e4998f62d ┆ 19-25     │\n",
       "│ f8d…                        ┆                    ┆      ┆ 0930…                      ┆           │\n",
       "└─────────────────────────────┴────────────────────┴──────┴────────────────────────────┴───────────┘"
      ]
     },
     "execution_count": 21,
     "metadata": {},
     "output_type": "execute_result"
    }
   ],
   "source": [
    "customers_df.head(3)"
   ]
  },
  {
   "cell_type": "markdown",
   "id": "722ebd71",
   "metadata": {},
   "source": [
    "### Transactions Data"
   ]
  },
  {
   "cell_type": "code",
   "execution_count": 22,
   "id": "4e74299b",
   "metadata": {},
   "outputs": [
    {
     "data": {
      "text/plain": [
       "(31788324, 5)"
      ]
     },
     "execution_count": 22,
     "metadata": {},
     "output_type": "execute_result"
    }
   ],
   "source": [
    "transactions_df =load_datasets.extract_transactions_df()\n",
    "transactions_df.shape"
   ]
  },
  {
   "cell_type": "code",
   "execution_count": 23,
   "id": "dcf83953",
   "metadata": {},
   "outputs": [
    {
     "data": {
      "text/html": [
       "<div><style>\n",
       ".dataframe > thead > tr,\n",
       ".dataframe > tbody > tr {\n",
       "  text-align: right;\n",
       "  white-space: pre-wrap;\n",
       "}\n",
       "</style>\n",
       "<small>shape: (3, 5)</small><table border=\"1\" class=\"dataframe\"><thead><tr><th>t_dat</th><th>customer_id</th><th>article_id</th><th>price</th><th>sales_channel_id</th></tr><tr><td>date</td><td>str</td><td>i64</td><td>f64</td><td>i64</td></tr></thead><tbody><tr><td>2018-09-20</td><td>&quot;000058a12d5b43e67d225668fa1f8d…</td><td>663713001</td><td>0.050831</td><td>2</td></tr><tr><td>2018-09-20</td><td>&quot;000058a12d5b43e67d225668fa1f8d…</td><td>541518023</td><td>0.030492</td><td>2</td></tr><tr><td>2018-09-20</td><td>&quot;00007d2de826758b65a93dd24ce629…</td><td>505221004</td><td>0.015237</td><td>2</td></tr></tbody></table></div>"
      ],
      "text/plain": [
       "shape: (3, 5)\n",
       "┌────────────┬─────────────────────────────────┬────────────┬──────────┬──────────────────┐\n",
       "│ t_dat      ┆ customer_id                     ┆ article_id ┆ price    ┆ sales_channel_id │\n",
       "│ ---        ┆ ---                             ┆ ---        ┆ ---      ┆ ---              │\n",
       "│ date       ┆ str                             ┆ i64        ┆ f64      ┆ i64              │\n",
       "╞════════════╪═════════════════════════════════╪════════════╪══════════╪══════════════════╡\n",
       "│ 2018-09-20 ┆ 000058a12d5b43e67d225668fa1f8d… ┆ 663713001  ┆ 0.050831 ┆ 2                │\n",
       "│ 2018-09-20 ┆ 000058a12d5b43e67d225668fa1f8d… ┆ 541518023  ┆ 0.030492 ┆ 2                │\n",
       "│ 2018-09-20 ┆ 00007d2de826758b65a93dd24ce629… ┆ 505221004  ┆ 0.015237 ┆ 2                │\n",
       "└────────────┴─────────────────────────────────┴────────────┴──────────┴──────────────────┘"
      ]
     },
     "execution_count": 23,
     "metadata": {},
     "output_type": "execute_result"
    }
   ],
   "source": [
    "transactions_df.head(3)"
   ]
  },
  {
   "cell_type": "markdown",
   "id": "8a802cf1",
   "metadata": {},
   "source": [
    "#### feature engineering"
   ]
  },
  {
   "cell_type": "code",
   "execution_count": 24,
   "id": "21921d83",
   "metadata": {},
   "outputs": [
    {
     "data": {
      "text/plain": [
       "(31788324, 9)"
      ]
     },
     "execution_count": 24,
     "metadata": {},
     "output_type": "execute_result"
    }
   ],
   "source": [
    "transactions_df = compute_features_transactions(transactions_df)\n",
    "transactions_df.shape"
   ]
  },
  {
   "cell_type": "code",
   "execution_count": 25,
   "id": "cb26c745",
   "metadata": {},
   "outputs": [
    {
     "data": {
      "text/html": [
       "<div><style>\n",
       ".dataframe > thead > tr,\n",
       ".dataframe > tbody > tr {\n",
       "  text-align: right;\n",
       "  white-space: pre-wrap;\n",
       "}\n",
       "</style>\n",
       "<small>shape: (3, 9)</small><table border=\"1\" class=\"dataframe\"><thead><tr><th>t_dat</th><th>customer_id</th><th>article_id</th><th>price</th><th>sales_channel_id</th><th>year</th><th>month</th><th>day</th><th>day_of_week</th></tr><tr><td>i64</td><td>str</td><td>str</td><td>f64</td><td>i64</td><td>i32</td><td>i8</td><td>i8</td><td>i8</td></tr></thead><tbody><tr><td>0</td><td>&quot;000058a12d5b43e67d225668fa1f8d…</td><td>&quot;663713001&quot;</td><td>0.050831</td><td>2</td><td>2018</td><td>9</td><td>20</td><td>4</td></tr><tr><td>0</td><td>&quot;000058a12d5b43e67d225668fa1f8d…</td><td>&quot;541518023&quot;</td><td>0.030492</td><td>2</td><td>2018</td><td>9</td><td>20</td><td>4</td></tr><tr><td>0</td><td>&quot;00007d2de826758b65a93dd24ce629…</td><td>&quot;505221004&quot;</td><td>0.015237</td><td>2</td><td>2018</td><td>9</td><td>20</td><td>4</td></tr></tbody></table></div>"
      ],
      "text/plain": [
       "shape: (3, 9)\n",
       "┌───────┬───────────────────────────┬────────────┬──────────┬───┬──────┬───────┬─────┬─────────────┐\n",
       "│ t_dat ┆ customer_id               ┆ article_id ┆ price    ┆ … ┆ year ┆ month ┆ day ┆ day_of_week │\n",
       "│ ---   ┆ ---                       ┆ ---        ┆ ---      ┆   ┆ ---  ┆ ---   ┆ --- ┆ ---         │\n",
       "│ i64   ┆ str                       ┆ str        ┆ f64      ┆   ┆ i32  ┆ i8    ┆ i8  ┆ i8          │\n",
       "╞═══════╪═══════════════════════════╪════════════╪══════════╪═══╪══════╪═══════╪═════╪═════════════╡\n",
       "│ 0     ┆ 000058a12d5b43e67d225668f ┆ 663713001  ┆ 0.050831 ┆ … ┆ 2018 ┆ 9     ┆ 20  ┆ 4           │\n",
       "│       ┆ a1f8d…                    ┆            ┆          ┆   ┆      ┆       ┆     ┆             │\n",
       "│ 0     ┆ 000058a12d5b43e67d225668f ┆ 541518023  ┆ 0.030492 ┆ … ┆ 2018 ┆ 9     ┆ 20  ┆ 4           │\n",
       "│       ┆ a1f8d…                    ┆            ┆          ┆   ┆      ┆       ┆     ┆             │\n",
       "│ 0     ┆ 00007d2de826758b65a93dd24 ┆ 505221004  ┆ 0.015237 ┆ … ┆ 2018 ┆ 9     ┆ 20  ┆ 4           │\n",
       "│       ┆ ce629…                    ┆            ┆          ┆   ┆      ┆       ┆     ┆             │\n",
       "└───────┴───────────────────────────┴────────────┴──────────┴───┴──────┴───────┴─────┴─────────────┘"
      ]
     },
     "execution_count": 25,
     "metadata": {},
     "output_type": "execute_result"
    }
   ],
   "source": [
    "transactions_df.head(3)"
   ]
  },
  {
   "cell_type": "code",
   "execution_count": 26,
   "id": "fe6d8eb4",
   "metadata": {},
   "outputs": [
    {
     "name": "stderr",
     "output_type": "stream",
     "text": [
      "\u001b[32m2025-07-28 16:40:30.170\u001b[0m | \u001b[1mINFO    \u001b[0m | \u001b[36mrecsys.features.customers\u001b[0m:\u001b[36msample\u001b[0m:\u001b[36m77\u001b[0m - \u001b[1mSampling 1000 customers.\u001b[0m\n",
      "\u001b[32m2025-07-28 16:40:30.294\u001b[0m | \u001b[1mINFO    \u001b[0m | \u001b[36mrecsys.features.customers\u001b[0m:\u001b[36msample\u001b[0m:\u001b[36m80\u001b[0m - \u001b[1mNumber of transactions for all the customers: 31788324\u001b[0m\n",
      "\u001b[32m2025-07-28 16:40:30.818\u001b[0m | \u001b[1mINFO    \u001b[0m | \u001b[36mrecsys.features.customers\u001b[0m:\u001b[36msample\u001b[0m:\u001b[36m86\u001b[0m - \u001b[1mNumber of transactions for the 1000 sampled customers: 23799\u001b[0m\n"
     ]
    }
   ],
   "source": [
    "sampler = DatasetSampler(size=settings.CUSTOMER_DATA_SIZE)\n",
    "dataset_subset = sampler.sample(\n",
    "    customers_df=customers_df, transations_df=transactions_df\n",
    ")\n",
    "customers_df = dataset_subset[\"customers\"]\n",
    "transactions_df = dataset_subset[\"transactions\"]"
   ]
  },
  {
   "cell_type": "code",
   "execution_count": 27,
   "id": "da75ac3e",
   "metadata": {},
   "outputs": [
    {
     "data": {
      "text/plain": [
       "(23799, 9)"
      ]
     },
     "execution_count": 27,
     "metadata": {},
     "output_type": "execute_result"
    }
   ],
   "source": [
    "transactions_df.shape"
   ]
  },
  {
   "cell_type": "markdown",
   "id": "f34f8d1f",
   "metadata": {},
   "source": [
    "### Interaction data"
   ]
  },
  {
   "cell_type": "code",
   "execution_count": 28,
   "id": "e6e018f5",
   "metadata": {},
   "outputs": [
    {
     "name": "stderr",
     "output_type": "stream",
     "text": [
      "Processing customer chunks: 100%|██████████| 1/1 [00:05<00:00,  5.47s/it]\n"
     ]
    },
    {
     "data": {
      "text/plain": [
       "(135916, 5)"
      ]
     },
     "execution_count": 28,
     "metadata": {},
     "output_type": "execute_result"
    }
   ],
   "source": [
    "interaction_df = generate_interaction_data(transactions_df)\n",
    "interaction_df.shape"
   ]
  },
  {
   "cell_type": "code",
   "execution_count": 29,
   "id": "588e58f2",
   "metadata": {},
   "outputs": [
    {
     "data": {
      "text/html": [
       "<div><style>\n",
       ".dataframe > thead > tr,\n",
       ".dataframe > tbody > tr {\n",
       "  text-align: right;\n",
       "  white-space: pre-wrap;\n",
       "}\n",
       "</style>\n",
       "<small>shape: (5, 5)</small><table border=\"1\" class=\"dataframe\"><thead><tr><th>t_dat</th><th>customer_id</th><th>article_id</th><th>interaction_score</th><th>prev_article_id</th></tr><tr><td>i64</td><td>str</td><td>str</td><td>i64</td><td>str</td></tr></thead><tbody><tr><td>-374400000</td><td>&quot;00b203a32faa3d007dba198ef27c15…</td><td>&quot;749509002&quot;</td><td>0</td><td>&quot;START&quot;</td></tr><tr><td>-363600000</td><td>&quot;00b203a32faa3d007dba198ef27c15…</td><td>&quot;633162017&quot;</td><td>0</td><td>&quot;749509002&quot;</td></tr><tr><td>-363600000</td><td>&quot;00b203a32faa3d007dba198ef27c15…</td><td>&quot;820410001&quot;</td><td>0</td><td>&quot;633162017&quot;</td></tr><tr><td>-363600000</td><td>&quot;00b203a32faa3d007dba198ef27c15…</td><td>&quot;749509002&quot;</td><td>0</td><td>&quot;820410001&quot;</td></tr><tr><td>-356400000</td><td>&quot;00b203a32faa3d007dba198ef27c15…</td><td>&quot;820410001&quot;</td><td>0</td><td>&quot;749509002&quot;</td></tr></tbody></table></div>"
      ],
      "text/plain": [
       "shape: (5, 5)\n",
       "┌────────────┬─────────────────────────────────┬────────────┬───────────────────┬─────────────────┐\n",
       "│ t_dat      ┆ customer_id                     ┆ article_id ┆ interaction_score ┆ prev_article_id │\n",
       "│ ---        ┆ ---                             ┆ ---        ┆ ---               ┆ ---             │\n",
       "│ i64        ┆ str                             ┆ str        ┆ i64               ┆ str             │\n",
       "╞════════════╪═════════════════════════════════╪════════════╪═══════════════════╪═════════════════╡\n",
       "│ -374400000 ┆ 00b203a32faa3d007dba198ef27c15… ┆ 749509002  ┆ 0                 ┆ START           │\n",
       "│ -363600000 ┆ 00b203a32faa3d007dba198ef27c15… ┆ 633162017  ┆ 0                 ┆ 749509002       │\n",
       "│ -363600000 ┆ 00b203a32faa3d007dba198ef27c15… ┆ 820410001  ┆ 0                 ┆ 633162017       │\n",
       "│ -363600000 ┆ 00b203a32faa3d007dba198ef27c15… ┆ 749509002  ┆ 0                 ┆ 820410001       │\n",
       "│ -356400000 ┆ 00b203a32faa3d007dba198ef27c15… ┆ 820410001  ┆ 0                 ┆ 749509002       │\n",
       "└────────────┴─────────────────────────────────┴────────────┴───────────────────┴─────────────────┘"
      ]
     },
     "execution_count": 29,
     "metadata": {},
     "output_type": "execute_result"
    }
   ],
   "source": [
    "interaction_df.head()"
   ]
  },
  {
   "cell_type": "code",
   "execution_count": 30,
   "id": "33b1854e",
   "metadata": {},
   "outputs": [
    {
     "data": {
      "text/html": [
       "<div><style>\n",
       ".dataframe > thead > tr,\n",
       ".dataframe > tbody > tr {\n",
       "  text-align: right;\n",
       "  white-space: pre-wrap;\n",
       "}\n",
       "</style>\n",
       "<small>shape: (3, 2)</small><table border=\"1\" class=\"dataframe\"><thead><tr><th>interaction_score</th><th>total_interactions</th></tr><tr><td>i64</td><td>u32</td></tr></thead><tbody><tr><td>0</td><td>73825</td></tr><tr><td>1</td><td>38292</td></tr><tr><td>2</td><td>23799</td></tr></tbody></table></div>"
      ],
      "text/plain": [
       "shape: (3, 2)\n",
       "┌───────────────────┬────────────────────┐\n",
       "│ interaction_score ┆ total_interactions │\n",
       "│ ---               ┆ ---                │\n",
       "│ i64               ┆ u32                │\n",
       "╞═══════════════════╪════════════════════╡\n",
       "│ 0                 ┆ 73825              │\n",
       "│ 1                 ┆ 38292              │\n",
       "│ 2                 ┆ 23799              │\n",
       "└───────────────────┴────────────────────┘"
      ]
     },
     "execution_count": 30,
     "metadata": {},
     "output_type": "execute_result"
    }
   ],
   "source": [
    "interaction_df.group_by(\"interaction_score\").agg(\n",
    "    pl.count(\"interaction_score\").alias(\"total_interactions\")\n",
    ")"
   ]
  },
  {
   "cell_type": "markdown",
   "id": "35c6fd09",
   "metadata": {},
   "source": [
    "Here is what each score means:\n",
    "\n",
    "    0 : No interaction between a customer and an item\n",
    "    1 : A customer clicked an item\n",
    "    2 : A customer bought an item"
   ]
  },
  {
   "cell_type": "markdown",
   "id": "4dce7304",
   "metadata": {},
   "source": [
    "## Create Hopsworks Feature Groups"
   ]
  },
  {
   "cell_type": "code",
   "execution_count": 31,
   "id": "8d76dfda",
   "metadata": {},
   "outputs": [
    {
     "name": "stderr",
     "output_type": "stream",
     "text": [
      "\u001b[32m2025-07-28 16:40:36.972\u001b[0m | \u001b[1mINFO    \u001b[0m | \u001b[36m__main__\u001b[0m:\u001b[36m<module>\u001b[0m:\u001b[36m1\u001b[0m - \u001b[1mUploading 'customers' Feature Group to Hopsworks.\u001b[0m\n",
      "Uploading Dataframe: 100.00% |██████████| Rows 1000/1000 | Elapsed Time: 00:00 | Remaining Time: 00:00\n"
     ]
    },
    {
     "name": "stdout",
     "output_type": "stream",
     "text": [
      "Launching job: customers_1_offline_fg_materialization\n",
      "Job started successfully, you can follow the progress at \n",
      "https://c.app.hopsworks.ai:443/p/90261/jobs/named/customers_1_offline_fg_materialization/executions\n",
      "2025-07-28 16:40:51,336 INFO: Waiting for execution to finish. Current state: SUBMITTED. Final status: UNDEFINED\n",
      "2025-07-28 16:40:57,301 INFO: Waiting for execution to finish. Current state: RUNNING. Final status: UNDEFINED\n",
      "2025-07-28 16:42:41,064 INFO: Waiting for execution to finish. Current state: AGGREGATING_LOGS. Final status: SUCCEEDED\n",
      "2025-07-28 16:42:41,211 INFO: Waiting for log aggregation to finish.\n",
      "2025-07-28 16:42:54,880 INFO: Execution finished successfully.\n"
     ]
    },
    {
     "name": "stderr",
     "output_type": "stream",
     "text": [
      "Online data ingestion progress: 0.00% |\u001b[31m          \u001b[0m| Rows 2000/?\n",
      "\u001b[32m2025-07-28 16:42:58.503\u001b[0m | \u001b[1mINFO    \u001b[0m | \u001b[36m__main__\u001b[0m:\u001b[36m<module>\u001b[0m:\u001b[36m6\u001b[0m - \u001b[1m✅ Uploaded 'customers' Feature Group to Hopsworks!\u001b[0m\n"
     ]
    }
   ],
   "source": [
    "logger.info(\"Uploading 'customers' Feature Group to Hopsworks.\")\n",
    "customers_fg = feature_store.create_customers_feature_group(\n",
    "    fs, df=customers_df, online_enabled=True\n",
    ")\n",
    "\n",
    "logger.info(\"✅ Uploaded 'customers' Feature Group to Hopsworks!\")"
   ]
  },
  {
   "cell_type": "code",
   "execution_count": 32,
   "id": "1262707b",
   "metadata": {},
   "outputs": [
    {
     "name": "stderr",
     "output_type": "stream",
     "text": [
      "\u001b[32m2025-07-28 16:42:58.572\u001b[0m | \u001b[1mINFO    \u001b[0m | \u001b[36m__main__\u001b[0m:\u001b[36m<module>\u001b[0m:\u001b[36m1\u001b[0m - \u001b[1mUploading 'articles' Feature Group to Hopsworks.\u001b[0m\n",
      "Uploading Dataframe: 100.00% |██████████| Rows 105542/105542 | Elapsed Time: 05:08 | Remaining Time: 00:00\n"
     ]
    },
    {
     "name": "stdout",
     "output_type": "stream",
     "text": [
      "Launching job: articles_1_offline_fg_materialization\n",
      "Job started successfully, you can follow the progress at \n",
      "https://c.app.hopsworks.ai:443/p/90261/jobs/named/articles_1_offline_fg_materialization/executions\n",
      "2025-07-28 16:48:20,084 INFO: Waiting for execution to finish. Current state: INITIALIZING. Final status: UNDEFINED\n",
      "2025-07-28 16:48:23,490 INFO: Waiting for execution to finish. Current state: SUBMITTED. Final status: UNDEFINED\n",
      "2025-07-28 16:48:26,171 INFO: Waiting for execution to finish. Current state: RUNNING. Final status: UNDEFINED\n",
      "2025-07-28 16:51:24,984 INFO: Waiting for execution to finish. Current state: AGGREGATING_LOGS. Final status: SUCCEEDED\n",
      "2025-07-28 16:51:25,115 INFO: Waiting for log aggregation to finish.\n",
      "2025-07-28 16:51:48,075 INFO: Execution finished successfully.\n"
     ]
    },
    {
     "name": "stderr",
     "output_type": "stream",
     "text": [
      "Online data ingestion progress: 7.27% |\u001b[31m▋         \u001b[0m| Rows 7674/105542\n",
      "\u001b[32m2025-07-28 16:52:49.141\u001b[0m | \u001b[1mINFO    \u001b[0m | \u001b[36m__main__\u001b[0m:\u001b[36m<module>\u001b[0m:\u001b[36m8\u001b[0m - \u001b[1m✅ Uploaded 'articles' Feature Group to Hopsworks!\u001b[0m\n"
     ]
    }
   ],
   "source": [
    "logger.info(\"Uploading 'articles' Feature Group to Hopsworks.\")\n",
    "articles_fg = feature_store.create_articles_feature_group(\n",
    "    fs,\n",
    "    df=articles_df,\n",
    "    articles_description_embedding_dim=model.get_sentence_embedding_dimension(),\n",
    "    online_enabled=True,\n",
    ")\n",
    "logger.info(\"✅ Uploaded 'articles' Feature Group to Hopsworks!\")"
   ]
  },
  {
   "cell_type": "code",
   "execution_count": 33,
   "id": "f799b412",
   "metadata": {},
   "outputs": [
    {
     "name": "stderr",
     "output_type": "stream",
     "text": [
      "\u001b[32m2025-07-28 16:52:49.189\u001b[0m | \u001b[1mINFO    \u001b[0m | \u001b[36m__main__\u001b[0m:\u001b[36m<module>\u001b[0m:\u001b[36m1\u001b[0m - \u001b[1mUploading 'transactions' Feature Group to Hopsworks.\u001b[0m\n",
      "Uploading Dataframe: 100.00% |██████████| Rows 23799/23799 | Elapsed Time: 00:02 | Remaining Time: 00:00\n"
     ]
    },
    {
     "name": "stdout",
     "output_type": "stream",
     "text": [
      "Launching job: transactions_1_offline_fg_materialization\n",
      "Job started successfully, you can follow the progress at \n",
      "https://c.app.hopsworks.ai:443/p/90261/jobs/named/transactions_1_offline_fg_materialization/executions\n",
      "2025-07-28 16:53:04,559 INFO: Waiting for execution to finish. Current state: SUBMITTED. Final status: UNDEFINED\n",
      "2025-07-28 16:53:07,729 INFO: Waiting for execution to finish. Current state: RUNNING. Final status: UNDEFINED\n",
      "2025-07-28 16:54:56,958 INFO: Waiting for execution to finish. Current state: AGGREGATING_LOGS. Final status: SUCCEEDED\n",
      "2025-07-28 16:54:57,090 INFO: Waiting for log aggregation to finish.\n",
      "2025-07-28 16:55:22,894 INFO: Execution finished successfully.\n"
     ]
    },
    {
     "name": "stderr",
     "output_type": "stream",
     "text": [
      "Online data ingestion progress: 100.00% |\u001b[31m██████████\u001b[0m| Rows 23799/23799\n",
      "\u001b[32m2025-07-28 16:55:29.622\u001b[0m | \u001b[1mINFO    \u001b[0m | \u001b[36m__main__\u001b[0m:\u001b[36m<module>\u001b[0m:\u001b[36m5\u001b[0m - \u001b[1m✅ Uploaded 'transactions' Feature Group to Hopsworks!\u001b[0m\n"
     ]
    }
   ],
   "source": [
    "logger.info(\"Uploading 'transactions' Feature Group to Hopsworks.\")\n",
    "trans_fg = feature_store.create_transactions_feature_group(\n",
    "    fs=fs, df=transactions_df, online_enabled=True\n",
    ")\n",
    "logger.info(\"✅ Uploaded 'transactions' Feature Group to Hopsworks!\")"
   ]
  },
  {
   "cell_type": "code",
   "execution_count": 34,
   "id": "37265d1b",
   "metadata": {},
   "outputs": [
    {
     "name": "stderr",
     "output_type": "stream",
     "text": [
      "\u001b[32m2025-07-28 16:55:29.665\u001b[0m | \u001b[1mINFO    \u001b[0m | \u001b[36m__main__\u001b[0m:\u001b[36m<module>\u001b[0m:\u001b[36m1\u001b[0m - \u001b[1mUploading 'interactions' Feature Group to Hopsworks.\u001b[0m\n",
      "Uploading Dataframe: 100.00% |██████████| Rows 135916/135916 | Elapsed Time: 00:07 | Remaining Time: 00:00\n"
     ]
    },
    {
     "name": "stdout",
     "output_type": "stream",
     "text": [
      "Launching job: interactions_1_offline_fg_materialization\n",
      "Job started successfully, you can follow the progress at \n",
      "https://c.app.hopsworks.ai:443/p/90261/jobs/named/interactions_1_offline_fg_materialization/executions\n",
      "2025-07-28 16:55:49,578 INFO: Waiting for execution to finish. Current state: SUBMITTED. Final status: UNDEFINED\n",
      "2025-07-28 16:55:54,904 INFO: Waiting for execution to finish. Current state: RUNNING. Final status: UNDEFINED\n",
      "2025-07-28 16:57:53,309 INFO: Waiting for execution to finish. Current state: AGGREGATING_LOGS. Final status: SUCCEEDED\n",
      "2025-07-28 16:57:53,452 INFO: Waiting for log aggregation to finish.\n",
      "2025-07-28 16:58:13,241 INFO: Execution finished successfully.\n"
     ]
    },
    {
     "name": "stderr",
     "output_type": "stream",
     "text": [
      "Online data ingestion progress: 100.00% |\u001b[31m██████████\u001b[0m| Rows 135916/135916\n",
      "\u001b[32m2025-07-28 16:58:16.152\u001b[0m | \u001b[1mINFO    \u001b[0m | \u001b[36m__main__\u001b[0m:\u001b[36m<module>\u001b[0m:\u001b[36m5\u001b[0m - \u001b[1m✅ Uploaded 'interactions' Feature Group to Hopsworks!!\u001b[0m\n"
     ]
    }
   ],
   "source": [
    "logger.info(\"Uploading 'interactions' Feature Group to Hopsworks.\")\n",
    "interactions_fg = feature_store.create_interactions_feature_group(\n",
    "    fs=fs, df=interaction_df, online_enabled=True\n",
    ")\n",
    "logger.info(\"✅ Uploaded 'interactions' Feature Group to Hopsworks!!\")"
   ]
  },
  {
   "cell_type": "markdown",
   "id": "fcf42768",
   "metadata": {},
   "source": [
    "## Compute ranking dataset"
   ]
  },
  {
   "cell_type": "code",
   "execution_count": 47,
   "id": "226344a3",
   "metadata": {},
   "outputs": [
    {
     "name": "stdout",
     "output_type": "stream",
     "text": [
      "Finished: Reading data from Hopsworks, using Hopsworks Feature Query Service (0.97s) \n",
      "Finished: Reading data from Hopsworks, using Hopsworks Feature Query Service (6.20s) \n",
      "Finished: Reading data from Hopsworks, using Hopsworks Feature Query Service (0.51s) \n",
      "Finished: Reading data from Hopsworks, using Hopsworks Feature Query Service (56.58s) \n"
     ]
    },
    {
     "data": {
      "text/plain": [
       "(224136, 15)"
      ]
     },
     "execution_count": 47,
     "metadata": {},
     "output_type": "execute_result"
    }
   ],
   "source": [
    "ranking_df = compute_ranking_dataset(\n",
    "    trans_fg,\n",
    "    articles_fg,\n",
    "    customers_fg,\n",
    ")\n",
    "ranking_df.shape"
   ]
  },
  {
   "cell_type": "code",
   "execution_count": 48,
   "id": "616c4da3",
   "metadata": {},
   "outputs": [
    {
     "data": {
      "text/html": [
       "<div><style>\n",
       ".dataframe > thead > tr,\n",
       ".dataframe > tbody > tr {\n",
       "  text-align: right;\n",
       "  white-space: pre-wrap;\n",
       "}\n",
       "</style>\n",
       "<small>shape: (3, 15)</small><table border=\"1\" class=\"dataframe\"><thead><tr><th>article_id</th><th>customer_id</th><th>age</th><th>label</th><th>product_type_name</th><th>product_group_name</th><th>graphical_appearance_name</th><th>colour_group_name</th><th>perceived_colour_value_name</th><th>perceived_colour_master_name</th><th>department_name</th><th>index_name</th><th>index_group_name</th><th>section_name</th><th>garment_group_name</th></tr><tr><td>str</td><td>str</td><td>f64</td><td>i32</td><td>str</td><td>str</td><td>str</td><td>str</td><td>str</td><td>str</td><td>str</td><td>str</td><td>str</td><td>str</td><td>str</td></tr></thead><tbody><tr><td>&quot;839496003&quot;</td><td>&quot;34d30dcece38ac652e9fd05285d94d…</td><td>64.0</td><td>1</td><td>&quot;Top&quot;</td><td>&quot;Garment Upper body&quot;</td><td>&quot;All over pattern&quot;</td><td>&quot;Beige&quot;</td><td>&quot;Dark&quot;</td><td>&quot;Beige&quot;</td><td>&quot;Jersey fancy&quot;</td><td>&quot;Ladieswear&quot;</td><td>&quot;Ladieswear&quot;</td><td>&quot;Womens Everyday Collection&quot;</td><td>&quot;Jersey Fancy&quot;</td></tr><tr><td>&quot;777093001&quot;</td><td>&quot;91a30617b9a5b5ff3927779204a176…</td><td>49.0</td><td>1</td><td>&quot;Jumpsuit/Playsuit&quot;</td><td>&quot;Garment Full body&quot;</td><td>&quot;All over pattern&quot;</td><td>&quot;Dark Blue&quot;</td><td>&quot;Dark&quot;</td><td>&quot;Blue&quot;</td><td>&quot;Young Girl Dresses&quot;</td><td>&quot;Children Sizes 134-170&quot;</td><td>&quot;Baby/Children&quot;</td><td>&quot;Young Girl&quot;</td><td>&quot;Dresses/Skirts girls&quot;</td></tr><tr><td>&quot;875719003&quot;</td><td>&quot;23eeb5e9595c9409031f21a9c01fa3…</td><td>25.0</td><td>1</td><td>&quot;Trousers&quot;</td><td>&quot;Garment Lower body&quot;</td><td>&quot;Solid&quot;</td><td>&quot;Beige&quot;</td><td>&quot;Dusty Light&quot;</td><td>&quot;Mole&quot;</td><td>&quot;Trousers DS&quot;</td><td>&quot;Divided&quot;</td><td>&quot;Divided&quot;</td><td>&quot;Divided Selected&quot;</td><td>&quot;Trousers&quot;</td></tr></tbody></table></div>"
      ],
      "text/plain": [
       "shape: (3, 15)\n",
       "┌────────────┬─────────────┬──────┬───────┬───┬─────────────┬────────────┬────────────┬────────────┐\n",
       "│ article_id ┆ customer_id ┆ age  ┆ label ┆ … ┆ index_name  ┆ index_grou ┆ section_na ┆ garment_gr │\n",
       "│ ---        ┆ ---         ┆ ---  ┆ ---   ┆   ┆ ---         ┆ p_name     ┆ me         ┆ oup_name   │\n",
       "│ str        ┆ str         ┆ f64  ┆ i32   ┆   ┆ str         ┆ ---        ┆ ---        ┆ ---        │\n",
       "│            ┆             ┆      ┆       ┆   ┆             ┆ str        ┆ str        ┆ str        │\n",
       "╞════════════╪═════════════╪══════╪═══════╪═══╪═════════════╪════════════╪════════════╪════════════╡\n",
       "│ 839496003  ┆ 34d30dcece3 ┆ 64.0 ┆ 1     ┆ … ┆ Ladieswear  ┆ Ladieswear ┆ Womens     ┆ Jersey     │\n",
       "│            ┆ 8ac652e9fd0 ┆      ┆       ┆   ┆             ┆            ┆ Everyday   ┆ Fancy      │\n",
       "│            ┆ 5285d94d…   ┆      ┆       ┆   ┆             ┆            ┆ Collection ┆            │\n",
       "│ 777093001  ┆ 91a30617b9a ┆ 49.0 ┆ 1     ┆ … ┆ Children    ┆ Baby/Child ┆ Young Girl ┆ Dresses/Sk │\n",
       "│            ┆ 5b5ff392777 ┆      ┆       ┆   ┆ Sizes       ┆ ren        ┆            ┆ irts girls │\n",
       "│            ┆ 9204a176…   ┆      ┆       ┆   ┆ 134-170     ┆            ┆            ┆            │\n",
       "│ 875719003  ┆ 23eeb5e9595 ┆ 25.0 ┆ 1     ┆ … ┆ Divided     ┆ Divided    ┆ Divided    ┆ Trousers   │\n",
       "│            ┆ c9409031f21 ┆      ┆       ┆   ┆             ┆            ┆ Selected   ┆            │\n",
       "│            ┆ a9c01fa3…   ┆      ┆       ┆   ┆             ┆            ┆            ┆            │\n",
       "└────────────┴─────────────┴──────┴───────┴───┴─────────────┴────────────┴────────────┴────────────┘"
      ]
     },
     "execution_count": 48,
     "metadata": {},
     "output_type": "execute_result"
    }
   ],
   "source": [
    "ranking_df.head(3)"
   ]
  },
  {
   "cell_type": "code",
   "execution_count": 49,
   "id": "e6c7040a",
   "metadata": {},
   "outputs": [
    {
     "data": {
      "text/html": [
       "<div><style>\n",
       ".dataframe > thead > tr,\n",
       ".dataframe > tbody > tr {\n",
       "  text-align: right;\n",
       "  white-space: pre-wrap;\n",
       "}\n",
       "</style>\n",
       "<small>shape: (2, 2)</small><table border=\"1\" class=\"dataframe\"><thead><tr><th>label</th><th>count</th></tr><tr><td>i32</td><td>u32</td></tr></thead><tbody><tr><td>0</td><td>203760</td></tr><tr><td>1</td><td>20376</td></tr></tbody></table></div>"
      ],
      "text/plain": [
       "shape: (2, 2)\n",
       "┌───────┬────────┐\n",
       "│ label ┆ count  │\n",
       "│ ---   ┆ ---    │\n",
       "│ i32   ┆ u32    │\n",
       "╞═══════╪════════╡\n",
       "│ 0     ┆ 203760 │\n",
       "│ 1     ┆ 20376  │\n",
       "└───────┴────────┘"
      ]
     },
     "execution_count": 49,
     "metadata": {},
     "output_type": "execute_result"
    }
   ],
   "source": [
    "ranking_df.get_column(\"label\").value_counts()"
   ]
  },
  {
   "cell_type": "code",
   "execution_count": 50,
   "id": "f4df2811",
   "metadata": {},
   "outputs": [
    {
     "name": "stderr",
     "output_type": "stream",
     "text": [
      "\u001b[32m2025-07-28 17:11:32.493\u001b[0m | \u001b[1mINFO    \u001b[0m | \u001b[36m__main__\u001b[0m:\u001b[36m<module>\u001b[0m:\u001b[36m1\u001b[0m - \u001b[1mUploading 'ranking' Feature Group to Hopsworks.\u001b[0m\n"
     ]
    },
    {
     "name": "stdout",
     "output_type": "stream",
     "text": [
      "Feature Group created successfully, explore it at \n",
      "https://c.app.hopsworks.ai:443/p/90261/fs/90180/fg/1495752\n"
     ]
    },
    {
     "name": "stderr",
     "output_type": "stream",
     "text": [
      "Uploading Dataframe: 100.00% |██████████| Rows 224136/224136 | Elapsed Time: 00:28 | Remaining Time: 00:00\n"
     ]
    },
    {
     "name": "stdout",
     "output_type": "stream",
     "text": [
      "Launching job: ranking_1_offline_fg_materialization\n",
      "Job started successfully, you can follow the progress at \n",
      "https://c.app.hopsworks.ai:443/p/90261/jobs/named/ranking_1_offline_fg_materialization/executions\n",
      "2025-07-28 17:12:14,439 INFO: Waiting for execution to finish. Current state: INITIALIZING. Final status: UNDEFINED\n",
      "2025-07-28 17:12:17,099 INFO: Waiting for execution to finish. Current state: SUBMITTED. Final status: UNDEFINED\n",
      "2025-07-28 17:12:20,272 INFO: Waiting for execution to finish. Current state: RUNNING. Final status: UNDEFINED\n",
      "2025-07-28 17:14:32,025 INFO: Waiting for execution to finish. Current state: SUCCEEDING. Final status: UNDEFINED\n",
      "2025-07-28 17:14:35,188 INFO: Waiting for execution to finish. Current state: AGGREGATING_LOGS. Final status: SUCCEEDED\n",
      "2025-07-28 17:14:35,333 INFO: Waiting for log aggregation to finish.\n",
      "2025-07-28 17:14:55,297 INFO: Execution finished successfully.\n"
     ]
    },
    {
     "name": "stderr",
     "output_type": "stream",
     "text": [
      "\u001b[32m2025-07-28 17:15:04.101\u001b[0m | \u001b[1mINFO    \u001b[0m | \u001b[36m__main__\u001b[0m:\u001b[36m<module>\u001b[0m:\u001b[36m8\u001b[0m - \u001b[1m✅ Uploaded 'ranking' Feature Group to Hopsworks!!\u001b[0m\n"
     ]
    }
   ],
   "source": [
    "logger.info(\"Uploading 'ranking' Feature Group to Hopsworks.\")\n",
    "rank_fg = feature_store.create_ranking_feature_group(\n",
    "    fs,\n",
    "    df=ranking_df,\n",
    "    parents=[articles_fg, customers_fg, trans_fg],\n",
    "    online_enabled=False,\n",
    ")\n",
    "logger.info(\"✅ Uploaded 'ranking' Feature Group to Hopsworks!!\")"
   ]
  },
  {
   "cell_type": "code",
   "execution_count": 51,
   "id": "c86b0af0",
   "metadata": {},
   "outputs": [
    {
     "name": "stderr",
     "output_type": "stream",
     "text": [
      "\u001b[32m2025-07-28 17:15:04.147\u001b[0m | \u001b[1mINFO    \u001b[0m | \u001b[36m__main__\u001b[0m:\u001b[36m<module>\u001b[0m:\u001b[36m4\u001b[0m - \u001b[1m⌛️ Notebook Execution time: 2271.39 seconds ~ 37.86 minutes\u001b[0m\n"
     ]
    }
   ],
   "source": [
    "notebook_end_time = time.time()\n",
    "notebook_execution_time = notebook_end_time - notebook_start_time\n",
    "\n",
    "logger.info(\n",
    "    f\"⌛️ Notebook Execution time: {notebook_execution_time:.2f} seconds ~ {notebook_execution_time / 60:.2f} minutes\"\n",
    ")"
   ]
  }
 ],
 "metadata": {
  "kernelspec": {
   "display_name": "personalized-recommender-project-nc9_7idR-py3.12",
   "language": "python",
   "name": "python3"
  },
  "language_info": {
   "codemirror_mode": {
    "name": "ipython",
    "version": 3
   },
   "file_extension": ".py",
   "mimetype": "text/x-python",
   "name": "python",
   "nbconvert_exporter": "python",
   "pygments_lexer": "ipython3",
   "version": "3.12.3"
  }
 },
 "nbformat": 4,
 "nbformat_minor": 5
}
